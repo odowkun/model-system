{
  "cells": [
    {
      "cell_type": "markdown",
      "metadata": {
        "id": "nRQAZZ7hYZ5E"
      },
      "source": [
        "# **SatSet Recommendation System**\n",
        "\n",
        "Import necessary libraries and modules"
      ]
    },
    {
      "cell_type": "code",
      "execution_count": 53,
      "metadata": {
        "colab": {
          "base_uri": "https://localhost:8080/"
        },
        "id": "qufOTYKG_hTz",
        "outputId": "1afd49dc-3303-4335-ae3b-b9e770009417"
      },
      "outputs": [
        {
          "name": "stdout",
          "output_type": "stream",
          "text": [
            "Drive already mounted at /content/drive; to attempt to forcibly remount, call drive.mount(\"/content/drive\", force_remount=True).\n"
          ]
        }
      ],
      "source": [
        "from google.colab import drive\n",
        "drive.mount('/content/drive')"
      ]
    },
    {
      "cell_type": "code",
      "execution_count": 54,
      "metadata": {
        "colab": {
          "base_uri": "https://localhost:8080/"
        },
        "id": "qnAo4l7V9HsA",
        "outputId": "ca47d51f-a5a0-4b98-edb9-31c441b8a9a9"
      },
      "outputs": [
        {
          "name": "stdout",
          "output_type": "stream",
          "text": [
            "Requirement already satisfied: keras_tuner in /usr/local/lib/python3.10/dist-packages (1.4.7)\n",
            "Requirement already satisfied: keras in /usr/local/lib/python3.10/dist-packages (from keras_tuner) (2.15.0)\n",
            "Requirement already satisfied: packaging in /usr/local/lib/python3.10/dist-packages (from keras_tuner) (24.1)\n",
            "Requirement already satisfied: requests in /usr/local/lib/python3.10/dist-packages (from keras_tuner) (2.31.0)\n",
            "Requirement already satisfied: kt-legacy in /usr/local/lib/python3.10/dist-packages (from keras_tuner) (1.0.5)\n",
            "Requirement already satisfied: charset-normalizer<4,>=2 in /usr/local/lib/python3.10/dist-packages (from requests->keras_tuner) (3.3.2)\n",
            "Requirement already satisfied: idna<4,>=2.5 in /usr/local/lib/python3.10/dist-packages (from requests->keras_tuner) (3.7)\n",
            "Requirement already satisfied: urllib3<3,>=1.21.1 in /usr/local/lib/python3.10/dist-packages (from requests->keras_tuner) (2.0.7)\n",
            "Requirement already satisfied: certifi>=2017.4.17 in /usr/local/lib/python3.10/dist-packages (from requests->keras_tuner) (2024.6.2)\n",
            "Requirement already satisfied: surprise in /usr/local/lib/python3.10/dist-packages (0.1)\n",
            "Requirement already satisfied: scikit-surprise in /usr/local/lib/python3.10/dist-packages (from surprise) (1.1.4)\n",
            "Requirement already satisfied: joblib>=1.2.0 in /usr/local/lib/python3.10/dist-packages (from scikit-surprise->surprise) (1.4.2)\n",
            "Requirement already satisfied: numpy>=1.19.5 in /usr/local/lib/python3.10/dist-packages (from scikit-surprise->surprise) (1.25.2)\n",
            "Requirement already satisfied: scipy>=1.6.0 in /usr/local/lib/python3.10/dist-packages (from scikit-surprise->surprise) (1.11.4)\n"
          ]
        }
      ],
      "source": [
        "!pip install keras_tuner\n",
        "!pip install surprise"
      ]
    },
    {
      "cell_type": "code",
      "execution_count": 55,
      "metadata": {
        "id": "Mqf7_8tGYM2k"
      },
      "outputs": [],
      "source": [
        "import pandas as pd\n",
        "import numpy as np\n",
        "from sklearn.feature_extraction.text import TfidfVectorizer\n",
        "from sklearn.preprocessing import StandardScaler, OneHotEncoder\n",
        "from sklearn.model_selection import train_test_split, KFold\n",
        "from sklearn.metrics import mean_absolute_error, mean_squared_error, r2_score\n",
        "import tensorflow as tf\n",
        "from tensorflow.keras.models import Sequential, Model\n",
        "from tensorflow.keras.layers import Input, Embedding, Flatten, Concatenate, Dense, Dropout\n",
        "from tensorflow.keras.optimizers import Adam\n",
        "from tensorflow.keras.callbacks import EarlyStopping\n",
        "import matplotlib.pyplot as plt\n",
        "import keras_tuner as kt\n",
        "import pickle"
      ]
    },
    {
      "cell_type": "markdown",
      "metadata": {
        "id": "8GDXm1jmBcUd"
      },
      "source": [
        "Load the datasets into DataFrame"
      ]
    },
    {
      "cell_type": "code",
      "execution_count": 56,
      "metadata": {
        "id": "LphQmkG3-T0i"
      },
      "outputs": [],
      "source": [
        "users_path = '/content/drive/MyDrive/SatSet/users.csv'\n",
        "tech_path = '/content/drive/MyDrive/SatSet/technicians.csv'\n",
        "\n",
        "users_df = pd.read_csv(users_path)\n",
        "technicians_df = pd.read_csv(tech_path)\n",
        "ori_technician = technicians_df.copy()"
      ]
    },
    {
      "cell_type": "markdown",
      "metadata": {
        "id": "ire0rHNi8nME"
      },
      "source": [
        "## **1. Data Understanding**\n",
        "Get the shape of the datasets"
      ]
    },
    {
      "cell_type": "code",
      "execution_count": 57,
      "metadata": {
        "colab": {
          "base_uri": "https://localhost:8080/"
        },
        "id": "rZmDpZhICdXh",
        "outputId": "79036828-0fbd-473a-adc1-e20910ba2295"
      },
      "outputs": [
        {
          "name": "stdout",
          "output_type": "stream",
          "text": [
            "(200, 10)\n",
            "(250, 6)\n"
          ]
        }
      ],
      "source": [
        "print(technicians_df.shape)\n",
        "print(users_df.shape)"
      ]
    },
    {
      "cell_type": "markdown",
      "metadata": {
        "id": "nqECTM3fC9U8"
      },
      "source": [
        "Display the first few rows of the dataset"
      ]
    },
    {
      "cell_type": "code",
      "execution_count": 58,
      "metadata": {
        "colab": {
          "base_uri": "https://localhost:8080/",
          "height": 486
        },
        "id": "gi4TnADPC8dp",
        "outputId": "3a698bbd-e97f-4382-8265-94afae98dec5"
      },
      "outputs": [
        {
          "data": {
            "application/vnd.google.colaboratory.intrinsic+json": {
              "summary": "{\n  \"name\": \"technicians_df\",\n  \"rows\": 200,\n  \"fields\": [\n    {\n      \"column\": \"technicianid\",\n      \"properties\": {\n        \"dtype\": \"number\",\n        \"std\": 57,\n        \"min\": 1,\n        \"max\": 200,\n        \"num_unique_values\": 200,\n        \"samples\": [\n          96,\n          16,\n          31\n        ],\n        \"semantic_type\": \"\",\n        \"description\": \"\"\n      }\n    },\n    {\n      \"column\": \"name\",\n      \"properties\": {\n        \"dtype\": \"string\",\n        \"num_unique_values\": 199,\n        \"samples\": [\n          \"Emil Teguh Zulaika\",\n          \"Jayadi Luluh Wahyuni\",\n          \"Ganda Haryanti\"\n        ],\n        \"semantic_type\": \"\",\n        \"description\": \"\"\n      }\n    },\n    {\n      \"column\": \"phonenumber\",\n      \"properties\": {\n        \"dtype\": \"number\",\n        \"std\": 28214533463462,\n        \"min\": 6281075047343,\n        \"max\": 62899925821255,\n        \"num_unique_values\": 200,\n        \"samples\": [\n          6282593018065,\n          6286059402363,\n          6288001984150\n        ],\n        \"semantic_type\": \"\",\n        \"description\": \"\"\n      }\n    },\n    {\n      \"column\": \"email\",\n      \"properties\": {\n        \"dtype\": \"string\",\n        \"num_unique_values\": 199,\n        \"samples\": [\n          \"emilzulaika@gmail.com\",\n          \"jayadiwahyuni@gmail.com\",\n          \"gandaharyanti@gmail.com\"\n        ],\n        \"semantic_type\": \"\",\n        \"description\": \"\"\n      }\n    },\n    {\n      \"column\": \"skills\",\n      \"properties\": {\n        \"dtype\": \"string\",\n        \"num_unique_values\": 145,\n        \"samples\": [\n          \"AC Maintenance, Electrical Maintenance\",\n          \"Electrical Repair, Plumbing Installation\",\n          \"Plumbing Repair, Washing Machine Installation\"\n        ],\n        \"semantic_type\": \"\",\n        \"description\": \"\"\n      }\n    },\n    {\n      \"column\": \"experience\",\n      \"properties\": {\n        \"dtype\": \"number\",\n        \"std\": 3,\n        \"min\": 1,\n        \"max\": 15,\n        \"num_unique_values\": 15,\n        \"samples\": [\n          14,\n          7,\n          13\n        ],\n        \"semantic_type\": \"\",\n        \"description\": \"\"\n      }\n    },\n    {\n      \"column\": \"certifications\",\n      \"properties\": {\n        \"dtype\": \"category\",\n        \"num_unique_values\": 30,\n        \"samples\": [\n          \"Sertifikasi K3 Teknisi Listrik, Sertifikasi Profesi Teknik Pendingin\",\n          \"Sertifikasi K3 Teknisi Listrik, Sertifikasi LSP Elektronika Teknisi Mesin Cuci\",\n          \"Sertifikasi LSP Elektronika Teknisi Mesin Cuci, Sertifikasi Teknisi Refrigerasi\"\n        ],\n        \"semantic_type\": \"\",\n        \"description\": \"\"\n      }\n    },\n    {\n      \"column\": \"address\",\n      \"properties\": {\n        \"dtype\": \"string\",\n        \"num_unique_values\": 199,\n        \"samples\": [\n          \"Jl. Sentot Alibasa No. 1\",\n          \"Gg. Otto Iskandardinata No. 105\",\n          \"Jalan Kebonjati No. 19\"\n        ],\n        \"semantic_type\": \"\",\n        \"description\": \"\"\n      }\n    },\n    {\n      \"column\": \"location\",\n      \"properties\": {\n        \"dtype\": \"category\",\n        \"num_unique_values\": 84,\n        \"samples\": [\n          \"Kupang\",\n          \"Bitung\",\n          \"Bengkulu\"\n        ],\n        \"semantic_type\": \"\",\n        \"description\": \"\"\n      }\n    },\n    {\n      \"column\": \"ratingsreceived\",\n      \"properties\": {\n        \"dtype\": \"number\",\n        \"std\": 0.42027001370798583,\n        \"min\": 3.5,\n        \"max\": 5.0,\n        \"num_unique_values\": 16,\n        \"samples\": [\n          4.2,\n          4.6,\n          4.7\n        ],\n        \"semantic_type\": \"\",\n        \"description\": \"\"\n      }\n    }\n  ]\n}",
              "type": "dataframe",
              "variable_name": "technicians_df"
            },
            "text/html": [
              "\n",
              "  <div id=\"df-20ff1b13-d0d9-4e64-bb2c-5c3987d6c263\" class=\"colab-df-container\">\n",
              "    <div>\n",
              "<style scoped>\n",
              "    .dataframe tbody tr th:only-of-type {\n",
              "        vertical-align: middle;\n",
              "    }\n",
              "\n",
              "    .dataframe tbody tr th {\n",
              "        vertical-align: top;\n",
              "    }\n",
              "\n",
              "    .dataframe thead th {\n",
              "        text-align: right;\n",
              "    }\n",
              "</style>\n",
              "<table border=\"1\" class=\"dataframe\">\n",
              "  <thead>\n",
              "    <tr style=\"text-align: right;\">\n",
              "      <th></th>\n",
              "      <th>technicianid</th>\n",
              "      <th>name</th>\n",
              "      <th>phonenumber</th>\n",
              "      <th>email</th>\n",
              "      <th>skills</th>\n",
              "      <th>experience</th>\n",
              "      <th>certifications</th>\n",
              "      <th>address</th>\n",
              "      <th>location</th>\n",
              "      <th>ratingsreceived</th>\n",
              "    </tr>\n",
              "  </thead>\n",
              "  <tbody>\n",
              "    <tr>\n",
              "      <th>0</th>\n",
              "      <td>1</td>\n",
              "      <td>Erik Okta Lestari</td>\n",
              "      <td>6287265995831</td>\n",
              "      <td>eriklestari@gmail.com</td>\n",
              "      <td>Computer Installation, AC Repair</td>\n",
              "      <td>13</td>\n",
              "      <td>NaN</td>\n",
              "      <td>Gg. Rawamangun No. 019</td>\n",
              "      <td>Bitung</td>\n",
              "      <td>4.2</td>\n",
              "    </tr>\n",
              "    <tr>\n",
              "      <th>1</th>\n",
              "      <td>2</td>\n",
              "      <td>Raisa Lasmono Najmudin</td>\n",
              "      <td>6287452722533</td>\n",
              "      <td>raisanajmudin@gmail.com</td>\n",
              "      <td>Washing Machine Maintenance, Electrical Repair</td>\n",
              "      <td>4</td>\n",
              "      <td>NaN</td>\n",
              "      <td>Gg. Rumah Sakit No. 74</td>\n",
              "      <td>Tegal</td>\n",
              "      <td>4.6</td>\n",
              "    </tr>\n",
              "    <tr>\n",
              "      <th>2</th>\n",
              "      <td>3</td>\n",
              "      <td>Tasnim Utama</td>\n",
              "      <td>62829038854284</td>\n",
              "      <td>tasnimutama@gmail.com</td>\n",
              "      <td>AC Maintenance, Plumbing Installation</td>\n",
              "      <td>4</td>\n",
              "      <td>Sertifikasi Profesi Teknik Pendingin dan Tata ...</td>\n",
              "      <td>Jl. Yos Sudarso No. 720</td>\n",
              "      <td>Jayapura</td>\n",
              "      <td>4.9</td>\n",
              "    </tr>\n",
              "    <tr>\n",
              "      <th>3</th>\n",
              "      <td>4</td>\n",
              "      <td>Warji Ghani Wahyudin</td>\n",
              "      <td>6289233671587</td>\n",
              "      <td>warjiwahyudin@gmail.com</td>\n",
              "      <td>Computer Repair, Plumbing Repair</td>\n",
              "      <td>2</td>\n",
              "      <td>NaN</td>\n",
              "      <td>Jl. Rajawali Timur No. 95</td>\n",
              "      <td>Pariaman</td>\n",
              "      <td>5.0</td>\n",
              "    </tr>\n",
              "    <tr>\n",
              "      <th>4</th>\n",
              "      <td>5</td>\n",
              "      <td>Tania Jailani</td>\n",
              "      <td>6282057406206</td>\n",
              "      <td>taniajailani@gmail.com</td>\n",
              "      <td>Plumbing Installation, Computer Repair</td>\n",
              "      <td>3</td>\n",
              "      <td>SKA Ahli Teknik Plambing dan Pompa Mekanika</td>\n",
              "      <td>Gg. Monginsidi No. 200</td>\n",
              "      <td>Bogor</td>\n",
              "      <td>4.0</td>\n",
              "    </tr>\n",
              "  </tbody>\n",
              "</table>\n",
              "</div>\n",
              "    <div class=\"colab-df-buttons\">\n",
              "\n",
              "  <div class=\"colab-df-container\">\n",
              "    <button class=\"colab-df-convert\" onclick=\"convertToInteractive('df-20ff1b13-d0d9-4e64-bb2c-5c3987d6c263')\"\n",
              "            title=\"Convert this dataframe to an interactive table.\"\n",
              "            style=\"display:none;\">\n",
              "\n",
              "  <svg xmlns=\"http://www.w3.org/2000/svg\" height=\"24px\" viewBox=\"0 -960 960 960\">\n",
              "    <path d=\"M120-120v-720h720v720H120Zm60-500h600v-160H180v160Zm220 220h160v-160H400v160Zm0 220h160v-160H400v160ZM180-400h160v-160H180v160Zm440 0h160v-160H620v160ZM180-180h160v-160H180v160Zm440 0h160v-160H620v160Z\"/>\n",
              "  </svg>\n",
              "    </button>\n",
              "\n",
              "  <style>\n",
              "    .colab-df-container {\n",
              "      display:flex;\n",
              "      gap: 12px;\n",
              "    }\n",
              "\n",
              "    .colab-df-convert {\n",
              "      background-color: #E8F0FE;\n",
              "      border: none;\n",
              "      border-radius: 50%;\n",
              "      cursor: pointer;\n",
              "      display: none;\n",
              "      fill: #1967D2;\n",
              "      height: 32px;\n",
              "      padding: 0 0 0 0;\n",
              "      width: 32px;\n",
              "    }\n",
              "\n",
              "    .colab-df-convert:hover {\n",
              "      background-color: #E2EBFA;\n",
              "      box-shadow: 0px 1px 2px rgba(60, 64, 67, 0.3), 0px 1px 3px 1px rgba(60, 64, 67, 0.15);\n",
              "      fill: #174EA6;\n",
              "    }\n",
              "\n",
              "    .colab-df-buttons div {\n",
              "      margin-bottom: 4px;\n",
              "    }\n",
              "\n",
              "    [theme=dark] .colab-df-convert {\n",
              "      background-color: #3B4455;\n",
              "      fill: #D2E3FC;\n",
              "    }\n",
              "\n",
              "    [theme=dark] .colab-df-convert:hover {\n",
              "      background-color: #434B5C;\n",
              "      box-shadow: 0px 1px 3px 1px rgba(0, 0, 0, 0.15);\n",
              "      filter: drop-shadow(0px 1px 2px rgba(0, 0, 0, 0.3));\n",
              "      fill: #FFFFFF;\n",
              "    }\n",
              "  </style>\n",
              "\n",
              "    <script>\n",
              "      const buttonEl =\n",
              "        document.querySelector('#df-20ff1b13-d0d9-4e64-bb2c-5c3987d6c263 button.colab-df-convert');\n",
              "      buttonEl.style.display =\n",
              "        google.colab.kernel.accessAllowed ? 'block' : 'none';\n",
              "\n",
              "      async function convertToInteractive(key) {\n",
              "        const element = document.querySelector('#df-20ff1b13-d0d9-4e64-bb2c-5c3987d6c263');\n",
              "        const dataTable =\n",
              "          await google.colab.kernel.invokeFunction('convertToInteractive',\n",
              "                                                    [key], {});\n",
              "        if (!dataTable) return;\n",
              "\n",
              "        const docLinkHtml = 'Like what you see? Visit the ' +\n",
              "          '<a target=\"_blank\" href=https://colab.research.google.com/notebooks/data_table.ipynb>data table notebook</a>'\n",
              "          + ' to learn more about interactive tables.';\n",
              "        element.innerHTML = '';\n",
              "        dataTable['output_type'] = 'display_data';\n",
              "        await google.colab.output.renderOutput(dataTable, element);\n",
              "        const docLink = document.createElement('div');\n",
              "        docLink.innerHTML = docLinkHtml;\n",
              "        element.appendChild(docLink);\n",
              "      }\n",
              "    </script>\n",
              "  </div>\n",
              "\n",
              "\n",
              "<div id=\"df-802f07b8-e196-46a9-846d-cf49e34dda36\">\n",
              "  <button class=\"colab-df-quickchart\" onclick=\"quickchart('df-802f07b8-e196-46a9-846d-cf49e34dda36')\"\n",
              "            title=\"Suggest charts\"\n",
              "            style=\"display:none;\">\n",
              "\n",
              "<svg xmlns=\"http://www.w3.org/2000/svg\" height=\"24px\"viewBox=\"0 0 24 24\"\n",
              "     width=\"24px\">\n",
              "    <g>\n",
              "        <path d=\"M19 3H5c-1.1 0-2 .9-2 2v14c0 1.1.9 2 2 2h14c1.1 0 2-.9 2-2V5c0-1.1-.9-2-2-2zM9 17H7v-7h2v7zm4 0h-2V7h2v10zm4 0h-2v-4h2v4z\"/>\n",
              "    </g>\n",
              "</svg>\n",
              "  </button>\n",
              "\n",
              "<style>\n",
              "  .colab-df-quickchart {\n",
              "      --bg-color: #E8F0FE;\n",
              "      --fill-color: #1967D2;\n",
              "      --hover-bg-color: #E2EBFA;\n",
              "      --hover-fill-color: #174EA6;\n",
              "      --disabled-fill-color: #AAA;\n",
              "      --disabled-bg-color: #DDD;\n",
              "  }\n",
              "\n",
              "  [theme=dark] .colab-df-quickchart {\n",
              "      --bg-color: #3B4455;\n",
              "      --fill-color: #D2E3FC;\n",
              "      --hover-bg-color: #434B5C;\n",
              "      --hover-fill-color: #FFFFFF;\n",
              "      --disabled-bg-color: #3B4455;\n",
              "      --disabled-fill-color: #666;\n",
              "  }\n",
              "\n",
              "  .colab-df-quickchart {\n",
              "    background-color: var(--bg-color);\n",
              "    border: none;\n",
              "    border-radius: 50%;\n",
              "    cursor: pointer;\n",
              "    display: none;\n",
              "    fill: var(--fill-color);\n",
              "    height: 32px;\n",
              "    padding: 0;\n",
              "    width: 32px;\n",
              "  }\n",
              "\n",
              "  .colab-df-quickchart:hover {\n",
              "    background-color: var(--hover-bg-color);\n",
              "    box-shadow: 0 1px 2px rgba(60, 64, 67, 0.3), 0 1px 3px 1px rgba(60, 64, 67, 0.15);\n",
              "    fill: var(--button-hover-fill-color);\n",
              "  }\n",
              "\n",
              "  .colab-df-quickchart-complete:disabled,\n",
              "  .colab-df-quickchart-complete:disabled:hover {\n",
              "    background-color: var(--disabled-bg-color);\n",
              "    fill: var(--disabled-fill-color);\n",
              "    box-shadow: none;\n",
              "  }\n",
              "\n",
              "  .colab-df-spinner {\n",
              "    border: 2px solid var(--fill-color);\n",
              "    border-color: transparent;\n",
              "    border-bottom-color: var(--fill-color);\n",
              "    animation:\n",
              "      spin 1s steps(1) infinite;\n",
              "  }\n",
              "\n",
              "  @keyframes spin {\n",
              "    0% {\n",
              "      border-color: transparent;\n",
              "      border-bottom-color: var(--fill-color);\n",
              "      border-left-color: var(--fill-color);\n",
              "    }\n",
              "    20% {\n",
              "      border-color: transparent;\n",
              "      border-left-color: var(--fill-color);\n",
              "      border-top-color: var(--fill-color);\n",
              "    }\n",
              "    30% {\n",
              "      border-color: transparent;\n",
              "      border-left-color: var(--fill-color);\n",
              "      border-top-color: var(--fill-color);\n",
              "      border-right-color: var(--fill-color);\n",
              "    }\n",
              "    40% {\n",
              "      border-color: transparent;\n",
              "      border-right-color: var(--fill-color);\n",
              "      border-top-color: var(--fill-color);\n",
              "    }\n",
              "    60% {\n",
              "      border-color: transparent;\n",
              "      border-right-color: var(--fill-color);\n",
              "    }\n",
              "    80% {\n",
              "      border-color: transparent;\n",
              "      border-right-color: var(--fill-color);\n",
              "      border-bottom-color: var(--fill-color);\n",
              "    }\n",
              "    90% {\n",
              "      border-color: transparent;\n",
              "      border-bottom-color: var(--fill-color);\n",
              "    }\n",
              "  }\n",
              "</style>\n",
              "\n",
              "  <script>\n",
              "    async function quickchart(key) {\n",
              "      const quickchartButtonEl =\n",
              "        document.querySelector('#' + key + ' button');\n",
              "      quickchartButtonEl.disabled = true;  // To prevent multiple clicks.\n",
              "      quickchartButtonEl.classList.add('colab-df-spinner');\n",
              "      try {\n",
              "        const charts = await google.colab.kernel.invokeFunction(\n",
              "            'suggestCharts', [key], {});\n",
              "      } catch (error) {\n",
              "        console.error('Error during call to suggestCharts:', error);\n",
              "      }\n",
              "      quickchartButtonEl.classList.remove('colab-df-spinner');\n",
              "      quickchartButtonEl.classList.add('colab-df-quickchart-complete');\n",
              "    }\n",
              "    (() => {\n",
              "      let quickchartButtonEl =\n",
              "        document.querySelector('#df-802f07b8-e196-46a9-846d-cf49e34dda36 button');\n",
              "      quickchartButtonEl.style.display =\n",
              "        google.colab.kernel.accessAllowed ? 'block' : 'none';\n",
              "    })();\n",
              "  </script>\n",
              "</div>\n",
              "\n",
              "    </div>\n",
              "  </div>\n"
            ],
            "text/plain": [
              "   technicianid                    name     phonenumber  \\\n",
              "0             1       Erik Okta Lestari   6287265995831   \n",
              "1             2  Raisa Lasmono Najmudin   6287452722533   \n",
              "2             3            Tasnim Utama  62829038854284   \n",
              "3             4    Warji Ghani Wahyudin   6289233671587   \n",
              "4             5           Tania Jailani   6282057406206   \n",
              "\n",
              "                     email                                          skills  \\\n",
              "0    eriklestari@gmail.com                Computer Installation, AC Repair   \n",
              "1  raisanajmudin@gmail.com  Washing Machine Maintenance, Electrical Repair   \n",
              "2    tasnimutama@gmail.com           AC Maintenance, Plumbing Installation   \n",
              "3  warjiwahyudin@gmail.com                Computer Repair, Plumbing Repair   \n",
              "4   taniajailani@gmail.com          Plumbing Installation, Computer Repair   \n",
              "\n",
              "   experience                                     certifications  \\\n",
              "0          13                                                NaN   \n",
              "1           4                                                NaN   \n",
              "2           4  Sertifikasi Profesi Teknik Pendingin dan Tata ...   \n",
              "3           2                                                NaN   \n",
              "4           3        SKA Ahli Teknik Plambing dan Pompa Mekanika   \n",
              "\n",
              "                     address  location  ratingsreceived  \n",
              "0     Gg. Rawamangun No. 019    Bitung              4.2  \n",
              "1     Gg. Rumah Sakit No. 74     Tegal              4.6  \n",
              "2    Jl. Yos Sudarso No. 720  Jayapura              4.9  \n",
              "3  Jl. Rajawali Timur No. 95  Pariaman              5.0  \n",
              "4     Gg. Monginsidi No. 200     Bogor              4.0  "
            ]
          },
          "execution_count": 58,
          "metadata": {},
          "output_type": "execute_result"
        }
      ],
      "source": [
        "technicians_df.head()"
      ]
    },
    {
      "cell_type": "code",
      "execution_count": 59,
      "metadata": {
        "colab": {
          "base_uri": "https://localhost:8080/",
          "height": 206
        },
        "id": "aXFglzf9DYZf",
        "outputId": "64869612-61da-4065-cb91-995f0909ba61"
      },
      "outputs": [
        {
          "data": {
            "application/vnd.google.colaboratory.intrinsic+json": {
              "summary": "{\n  \"name\": \"users_df\",\n  \"rows\": 250,\n  \"fields\": [\n    {\n      \"column\": \"userid\",\n      \"properties\": {\n        \"dtype\": \"number\",\n        \"std\": 72,\n        \"min\": 1,\n        \"max\": 250,\n        \"num_unique_values\": 250,\n        \"samples\": [\n          143,\n          7,\n          98\n        ],\n        \"semantic_type\": \"\",\n        \"description\": \"\"\n      }\n    },\n    {\n      \"column\": \"name\",\n      \"properties\": {\n        \"dtype\": \"string\",\n        \"num_unique_values\": 250,\n        \"samples\": [\n          \"Ismail Nasrullah Laksita\",\n          \"Viktor Cecep Simbolon\",\n          \"Kenes Winarsih\"\n        ],\n        \"semantic_type\": \"\",\n        \"description\": \"\"\n      }\n    },\n    {\n      \"column\": \"location\",\n      \"properties\": {\n        \"dtype\": \"category\",\n        \"num_unique_values\": 91,\n        \"samples\": [\n          \"Palopo\",\n          \"Banjarbaru\",\n          \"Tidore Kepulauan\"\n        ],\n        \"semantic_type\": \"\",\n        \"description\": \"\"\n      }\n    },\n    {\n      \"column\": \"preferences\",\n      \"properties\": {\n        \"dtype\": \"category\",\n        \"num_unique_values\": 18,\n        \"samples\": [\n          \"Washing Machine Installation\",\n          \"Refrigerator Installation\",\n          \"Washing Machine Maintenance\"\n        ],\n        \"semantic_type\": \"\",\n        \"description\": \"\"\n      }\n    },\n    {\n      \"column\": \"technicianid\",\n      \"properties\": {\n        \"dtype\": \"string\",\n        \"num_unique_values\": 245,\n        \"samples\": [\n          \"[30, 9, 14, 191]\",\n          \"[154, 134, 108, 87, 50]\",\n          \"[19, 98, 163, 52]\"\n        ],\n        \"semantic_type\": \"\",\n        \"description\": \"\"\n      }\n    },\n    {\n      \"column\": \"ratingsgiven\",\n      \"properties\": {\n        \"dtype\": \"string\",\n        \"num_unique_values\": 209,\n        \"samples\": [\n          \"[4.3, 4.0, 3.8, 4.7, 3.6]\",\n          \"[4.4, 3.8, 4.0]\",\n          \"[3.9, 4.2, 3.6]\"\n        ],\n        \"semantic_type\": \"\",\n        \"description\": \"\"\n      }\n    }\n  ]\n}",
              "type": "dataframe",
              "variable_name": "users_df"
            },
            "text/html": [
              "\n",
              "  <div id=\"df-159931e3-ef3e-4447-a9d1-2d2c080b64e4\" class=\"colab-df-container\">\n",
              "    <div>\n",
              "<style scoped>\n",
              "    .dataframe tbody tr th:only-of-type {\n",
              "        vertical-align: middle;\n",
              "    }\n",
              "\n",
              "    .dataframe tbody tr th {\n",
              "        vertical-align: top;\n",
              "    }\n",
              "\n",
              "    .dataframe thead th {\n",
              "        text-align: right;\n",
              "    }\n",
              "</style>\n",
              "<table border=\"1\" class=\"dataframe\">\n",
              "  <thead>\n",
              "    <tr style=\"text-align: right;\">\n",
              "      <th></th>\n",
              "      <th>userid</th>\n",
              "      <th>name</th>\n",
              "      <th>location</th>\n",
              "      <th>preferences</th>\n",
              "      <th>technicianid</th>\n",
              "      <th>ratingsgiven</th>\n",
              "    </tr>\n",
              "  </thead>\n",
              "  <tbody>\n",
              "    <tr>\n",
              "      <th>0</th>\n",
              "      <td>1</td>\n",
              "      <td>Himawan Sakura Nurdiyanti</td>\n",
              "      <td>Sungai Penuh</td>\n",
              "      <td>Washing Machine Installation</td>\n",
              "      <td>[167, 137, 143, 156]</td>\n",
              "      <td>[4.1, 4.0, 4.3, 4.1]</td>\n",
              "    </tr>\n",
              "    <tr>\n",
              "      <th>1</th>\n",
              "      <td>2</td>\n",
              "      <td>Fathonah Puspita</td>\n",
              "      <td>Bogor</td>\n",
              "      <td>Refrigerator Installation</td>\n",
              "      <td>[99, 186, 84]</td>\n",
              "      <td>[4.0, 3.6, 4.9]</td>\n",
              "    </tr>\n",
              "    <tr>\n",
              "      <th>2</th>\n",
              "      <td>3</td>\n",
              "      <td>Martaka Purwa Namaga</td>\n",
              "      <td>Kupang</td>\n",
              "      <td>Electrical Repair</td>\n",
              "      <td>[88, 190, 117, 84, 23]</td>\n",
              "      <td>[4.1, 4.7, 4.3, 4.4, 4.5]</td>\n",
              "    </tr>\n",
              "    <tr>\n",
              "      <th>3</th>\n",
              "      <td>4</td>\n",
              "      <td>Kardi Yuliana Zulkarnain</td>\n",
              "      <td>Meulaboh</td>\n",
              "      <td>Washing Machine Installation</td>\n",
              "      <td>[137]</td>\n",
              "      <td>[3.6]</td>\n",
              "    </tr>\n",
              "    <tr>\n",
              "      <th>4</th>\n",
              "      <td>5</td>\n",
              "      <td>Martaka Tarihoran</td>\n",
              "      <td>Manado</td>\n",
              "      <td>Computer Installation</td>\n",
              "      <td>[81]</td>\n",
              "      <td>[3.8]</td>\n",
              "    </tr>\n",
              "  </tbody>\n",
              "</table>\n",
              "</div>\n",
              "    <div class=\"colab-df-buttons\">\n",
              "\n",
              "  <div class=\"colab-df-container\">\n",
              "    <button class=\"colab-df-convert\" onclick=\"convertToInteractive('df-159931e3-ef3e-4447-a9d1-2d2c080b64e4')\"\n",
              "            title=\"Convert this dataframe to an interactive table.\"\n",
              "            style=\"display:none;\">\n",
              "\n",
              "  <svg xmlns=\"http://www.w3.org/2000/svg\" height=\"24px\" viewBox=\"0 -960 960 960\">\n",
              "    <path d=\"M120-120v-720h720v720H120Zm60-500h600v-160H180v160Zm220 220h160v-160H400v160Zm0 220h160v-160H400v160ZM180-400h160v-160H180v160Zm440 0h160v-160H620v160ZM180-180h160v-160H180v160Zm440 0h160v-160H620v160Z\"/>\n",
              "  </svg>\n",
              "    </button>\n",
              "\n",
              "  <style>\n",
              "    .colab-df-container {\n",
              "      display:flex;\n",
              "      gap: 12px;\n",
              "    }\n",
              "\n",
              "    .colab-df-convert {\n",
              "      background-color: #E8F0FE;\n",
              "      border: none;\n",
              "      border-radius: 50%;\n",
              "      cursor: pointer;\n",
              "      display: none;\n",
              "      fill: #1967D2;\n",
              "      height: 32px;\n",
              "      padding: 0 0 0 0;\n",
              "      width: 32px;\n",
              "    }\n",
              "\n",
              "    .colab-df-convert:hover {\n",
              "      background-color: #E2EBFA;\n",
              "      box-shadow: 0px 1px 2px rgba(60, 64, 67, 0.3), 0px 1px 3px 1px rgba(60, 64, 67, 0.15);\n",
              "      fill: #174EA6;\n",
              "    }\n",
              "\n",
              "    .colab-df-buttons div {\n",
              "      margin-bottom: 4px;\n",
              "    }\n",
              "\n",
              "    [theme=dark] .colab-df-convert {\n",
              "      background-color: #3B4455;\n",
              "      fill: #D2E3FC;\n",
              "    }\n",
              "\n",
              "    [theme=dark] .colab-df-convert:hover {\n",
              "      background-color: #434B5C;\n",
              "      box-shadow: 0px 1px 3px 1px rgba(0, 0, 0, 0.15);\n",
              "      filter: drop-shadow(0px 1px 2px rgba(0, 0, 0, 0.3));\n",
              "      fill: #FFFFFF;\n",
              "    }\n",
              "  </style>\n",
              "\n",
              "    <script>\n",
              "      const buttonEl =\n",
              "        document.querySelector('#df-159931e3-ef3e-4447-a9d1-2d2c080b64e4 button.colab-df-convert');\n",
              "      buttonEl.style.display =\n",
              "        google.colab.kernel.accessAllowed ? 'block' : 'none';\n",
              "\n",
              "      async function convertToInteractive(key) {\n",
              "        const element = document.querySelector('#df-159931e3-ef3e-4447-a9d1-2d2c080b64e4');\n",
              "        const dataTable =\n",
              "          await google.colab.kernel.invokeFunction('convertToInteractive',\n",
              "                                                    [key], {});\n",
              "        if (!dataTable) return;\n",
              "\n",
              "        const docLinkHtml = 'Like what you see? Visit the ' +\n",
              "          '<a target=\"_blank\" href=https://colab.research.google.com/notebooks/data_table.ipynb>data table notebook</a>'\n",
              "          + ' to learn more about interactive tables.';\n",
              "        element.innerHTML = '';\n",
              "        dataTable['output_type'] = 'display_data';\n",
              "        await google.colab.output.renderOutput(dataTable, element);\n",
              "        const docLink = document.createElement('div');\n",
              "        docLink.innerHTML = docLinkHtml;\n",
              "        element.appendChild(docLink);\n",
              "      }\n",
              "    </script>\n",
              "  </div>\n",
              "\n",
              "\n",
              "<div id=\"df-5f0fac89-194b-42be-838c-8b36203564a2\">\n",
              "  <button class=\"colab-df-quickchart\" onclick=\"quickchart('df-5f0fac89-194b-42be-838c-8b36203564a2')\"\n",
              "            title=\"Suggest charts\"\n",
              "            style=\"display:none;\">\n",
              "\n",
              "<svg xmlns=\"http://www.w3.org/2000/svg\" height=\"24px\"viewBox=\"0 0 24 24\"\n",
              "     width=\"24px\">\n",
              "    <g>\n",
              "        <path d=\"M19 3H5c-1.1 0-2 .9-2 2v14c0 1.1.9 2 2 2h14c1.1 0 2-.9 2-2V5c0-1.1-.9-2-2-2zM9 17H7v-7h2v7zm4 0h-2V7h2v10zm4 0h-2v-4h2v4z\"/>\n",
              "    </g>\n",
              "</svg>\n",
              "  </button>\n",
              "\n",
              "<style>\n",
              "  .colab-df-quickchart {\n",
              "      --bg-color: #E8F0FE;\n",
              "      --fill-color: #1967D2;\n",
              "      --hover-bg-color: #E2EBFA;\n",
              "      --hover-fill-color: #174EA6;\n",
              "      --disabled-fill-color: #AAA;\n",
              "      --disabled-bg-color: #DDD;\n",
              "  }\n",
              "\n",
              "  [theme=dark] .colab-df-quickchart {\n",
              "      --bg-color: #3B4455;\n",
              "      --fill-color: #D2E3FC;\n",
              "      --hover-bg-color: #434B5C;\n",
              "      --hover-fill-color: #FFFFFF;\n",
              "      --disabled-bg-color: #3B4455;\n",
              "      --disabled-fill-color: #666;\n",
              "  }\n",
              "\n",
              "  .colab-df-quickchart {\n",
              "    background-color: var(--bg-color);\n",
              "    border: none;\n",
              "    border-radius: 50%;\n",
              "    cursor: pointer;\n",
              "    display: none;\n",
              "    fill: var(--fill-color);\n",
              "    height: 32px;\n",
              "    padding: 0;\n",
              "    width: 32px;\n",
              "  }\n",
              "\n",
              "  .colab-df-quickchart:hover {\n",
              "    background-color: var(--hover-bg-color);\n",
              "    box-shadow: 0 1px 2px rgba(60, 64, 67, 0.3), 0 1px 3px 1px rgba(60, 64, 67, 0.15);\n",
              "    fill: var(--button-hover-fill-color);\n",
              "  }\n",
              "\n",
              "  .colab-df-quickchart-complete:disabled,\n",
              "  .colab-df-quickchart-complete:disabled:hover {\n",
              "    background-color: var(--disabled-bg-color);\n",
              "    fill: var(--disabled-fill-color);\n",
              "    box-shadow: none;\n",
              "  }\n",
              "\n",
              "  .colab-df-spinner {\n",
              "    border: 2px solid var(--fill-color);\n",
              "    border-color: transparent;\n",
              "    border-bottom-color: var(--fill-color);\n",
              "    animation:\n",
              "      spin 1s steps(1) infinite;\n",
              "  }\n",
              "\n",
              "  @keyframes spin {\n",
              "    0% {\n",
              "      border-color: transparent;\n",
              "      border-bottom-color: var(--fill-color);\n",
              "      border-left-color: var(--fill-color);\n",
              "    }\n",
              "    20% {\n",
              "      border-color: transparent;\n",
              "      border-left-color: var(--fill-color);\n",
              "      border-top-color: var(--fill-color);\n",
              "    }\n",
              "    30% {\n",
              "      border-color: transparent;\n",
              "      border-left-color: var(--fill-color);\n",
              "      border-top-color: var(--fill-color);\n",
              "      border-right-color: var(--fill-color);\n",
              "    }\n",
              "    40% {\n",
              "      border-color: transparent;\n",
              "      border-right-color: var(--fill-color);\n",
              "      border-top-color: var(--fill-color);\n",
              "    }\n",
              "    60% {\n",
              "      border-color: transparent;\n",
              "      border-right-color: var(--fill-color);\n",
              "    }\n",
              "    80% {\n",
              "      border-color: transparent;\n",
              "      border-right-color: var(--fill-color);\n",
              "      border-bottom-color: var(--fill-color);\n",
              "    }\n",
              "    90% {\n",
              "      border-color: transparent;\n",
              "      border-bottom-color: var(--fill-color);\n",
              "    }\n",
              "  }\n",
              "</style>\n",
              "\n",
              "  <script>\n",
              "    async function quickchart(key) {\n",
              "      const quickchartButtonEl =\n",
              "        document.querySelector('#' + key + ' button');\n",
              "      quickchartButtonEl.disabled = true;  // To prevent multiple clicks.\n",
              "      quickchartButtonEl.classList.add('colab-df-spinner');\n",
              "      try {\n",
              "        const charts = await google.colab.kernel.invokeFunction(\n",
              "            'suggestCharts', [key], {});\n",
              "      } catch (error) {\n",
              "        console.error('Error during call to suggestCharts:', error);\n",
              "      }\n",
              "      quickchartButtonEl.classList.remove('colab-df-spinner');\n",
              "      quickchartButtonEl.classList.add('colab-df-quickchart-complete');\n",
              "    }\n",
              "    (() => {\n",
              "      let quickchartButtonEl =\n",
              "        document.querySelector('#df-5f0fac89-194b-42be-838c-8b36203564a2 button');\n",
              "      quickchartButtonEl.style.display =\n",
              "        google.colab.kernel.accessAllowed ? 'block' : 'none';\n",
              "    })();\n",
              "  </script>\n",
              "</div>\n",
              "\n",
              "    </div>\n",
              "  </div>\n"
            ],
            "text/plain": [
              "   userid                       name      location  \\\n",
              "0       1  Himawan Sakura Nurdiyanti  Sungai Penuh   \n",
              "1       2           Fathonah Puspita         Bogor   \n",
              "2       3       Martaka Purwa Namaga        Kupang   \n",
              "3       4   Kardi Yuliana Zulkarnain      Meulaboh   \n",
              "4       5          Martaka Tarihoran        Manado   \n",
              "\n",
              "                    preferences            technicianid  \\\n",
              "0  Washing Machine Installation    [167, 137, 143, 156]   \n",
              "1     Refrigerator Installation           [99, 186, 84]   \n",
              "2             Electrical Repair  [88, 190, 117, 84, 23]   \n",
              "3  Washing Machine Installation                   [137]   \n",
              "4         Computer Installation                    [81]   \n",
              "\n",
              "                ratingsgiven  \n",
              "0       [4.1, 4.0, 4.3, 4.1]  \n",
              "1            [4.0, 3.6, 4.9]  \n",
              "2  [4.1, 4.7, 4.3, 4.4, 4.5]  \n",
              "3                      [3.6]  \n",
              "4                      [3.8]  "
            ]
          },
          "execution_count": 59,
          "metadata": {},
          "output_type": "execute_result"
        }
      ],
      "source": [
        "users_df.head()"
      ]
    },
    {
      "cell_type": "markdown",
      "metadata": {
        "id": "h-XHAf8HCe1d"
      },
      "source": [
        "Check the data types of each column"
      ]
    },
    {
      "cell_type": "code",
      "execution_count": 60,
      "metadata": {
        "colab": {
          "base_uri": "https://localhost:8080/"
        },
        "id": "8Anh-6_mD1tT",
        "outputId": "c0a59b40-32ca-4046-b3ba-0cbbc6de89db"
      },
      "outputs": [
        {
          "name": "stdout",
          "output_type": "stream",
          "text": [
            "<class 'pandas.core.frame.DataFrame'>\n",
            "RangeIndex: 200 entries, 0 to 199\n",
            "Data columns (total 10 columns):\n",
            " #   Column           Non-Null Count  Dtype  \n",
            "---  ------           --------------  -----  \n",
            " 0   technicianid     200 non-null    int64  \n",
            " 1   name             200 non-null    object \n",
            " 2   phonenumber      200 non-null    int64  \n",
            " 3   email            200 non-null    object \n",
            " 4   skills           200 non-null    object \n",
            " 5   experience       200 non-null    int64  \n",
            " 6   certifications   115 non-null    object \n",
            " 7   address          200 non-null    object \n",
            " 8   location         200 non-null    object \n",
            " 9   ratingsreceived  200 non-null    float64\n",
            "dtypes: float64(1), int64(3), object(6)\n",
            "memory usage: 15.8+ KB\n",
            "None\n",
            "<class 'pandas.core.frame.DataFrame'>\n",
            "RangeIndex: 250 entries, 0 to 249\n",
            "Data columns (total 6 columns):\n",
            " #   Column        Non-Null Count  Dtype \n",
            "---  ------        --------------  ----- \n",
            " 0   userid        250 non-null    int64 \n",
            " 1   name          250 non-null    object\n",
            " 2   location      250 non-null    object\n",
            " 3   preferences   250 non-null    object\n",
            " 4   technicianid  250 non-null    object\n",
            " 5   ratingsgiven  250 non-null    object\n",
            "dtypes: int64(1), object(5)\n",
            "memory usage: 11.8+ KB\n",
            "None\n"
          ]
        }
      ],
      "source": [
        "print(technicians_df.info())\n",
        "print(users_df.info())"
      ]
    },
    {
      "cell_type": "markdown",
      "metadata": {
        "id": "15UFmlcDEDwt"
      },
      "source": [
        "Check missing values"
      ]
    },
    {
      "cell_type": "code",
      "execution_count": 61,
      "metadata": {
        "colab": {
          "base_uri": "https://localhost:8080/"
        },
        "id": "Ao8ptcbWEJZV",
        "outputId": "ac8ba6c8-1129-4ceb-dbd5-ee91ce0cf51e"
      },
      "outputs": [
        {
          "data": {
            "text/plain": [
              "technicianid        0\n",
              "name                0\n",
              "phonenumber         0\n",
              "email               0\n",
              "skills              0\n",
              "experience          0\n",
              "certifications     85\n",
              "address             0\n",
              "location            0\n",
              "ratingsreceived     0\n",
              "dtype: int64"
            ]
          },
          "execution_count": 61,
          "metadata": {},
          "output_type": "execute_result"
        }
      ],
      "source": [
        "technicians_df.isnull().sum()"
      ]
    },
    {
      "cell_type": "markdown",
      "metadata": {
        "id": "7fYDiQ8WEWkw"
      },
      "source": [
        "Get summary statistics of the numerical columns"
      ]
    },
    {
      "cell_type": "code",
      "execution_count": 62,
      "metadata": {
        "colab": {
          "base_uri": "https://localhost:8080/",
          "height": 300
        },
        "id": "Wr1fZhWkEaVK",
        "outputId": "4d761341-b1fe-4eb2-b83a-45ef68969a41"
      },
      "outputs": [
        {
          "data": {
            "application/vnd.google.colaboratory.intrinsic+json": {
              "summary": "{\n  \"name\": \"technicians_df\",\n  \"rows\": 8,\n  \"fields\": [\n    {\n      \"column\": \"technicianid\",\n      \"properties\": {\n        \"dtype\": \"number\",\n        \"std\": 71.77644232399086,\n        \"min\": 1.0,\n        \"max\": 200.0,\n        \"num_unique_values\": 6,\n        \"samples\": [\n          200.0,\n          100.5,\n          150.25\n        ],\n        \"semantic_type\": \"\",\n        \"description\": \"\"\n      }\n    },\n    {\n      \"column\": \"phonenumber\",\n      \"properties\": {\n        \"dtype\": \"number\",\n        \"std\": 25629992975634.7,\n        \"min\": 200.0,\n        \"max\": 62899925821255.0,\n        \"num_unique_values\": 8,\n        \"samples\": [\n          31742314991839.49,\n          6289187830916.5,\n          200.0\n        ],\n        \"semantic_type\": \"\",\n        \"description\": \"\"\n      }\n    },\n    {\n      \"column\": \"experience\",\n      \"properties\": {\n        \"dtype\": \"number\",\n        \"std\": 69.06056017691188,\n        \"min\": 1.0,\n        \"max\": 200.0,\n        \"num_unique_values\": 8,\n        \"samples\": [\n          4.705,\n          4.0,\n          200.0\n        ],\n        \"semantic_type\": \"\",\n        \"description\": \"\"\n      }\n    },\n    {\n      \"column\": \"ratingsreceived\",\n      \"properties\": {\n        \"dtype\": \"number\",\n        \"std\": 69.40117866371224,\n        \"min\": 0.42027001370798583,\n        \"max\": 200.0,\n        \"num_unique_values\": 8,\n        \"samples\": [\n          4.2975,\n          4.3,\n          200.0\n        ],\n        \"semantic_type\": \"\",\n        \"description\": \"\"\n      }\n    }\n  ]\n}",
              "type": "dataframe"
            },
            "text/html": [
              "\n",
              "  <div id=\"df-80978c36-c56f-4f71-beef-7e907385315c\" class=\"colab-df-container\">\n",
              "    <div>\n",
              "<style scoped>\n",
              "    .dataframe tbody tr th:only-of-type {\n",
              "        vertical-align: middle;\n",
              "    }\n",
              "\n",
              "    .dataframe tbody tr th {\n",
              "        vertical-align: top;\n",
              "    }\n",
              "\n",
              "    .dataframe thead th {\n",
              "        text-align: right;\n",
              "    }\n",
              "</style>\n",
              "<table border=\"1\" class=\"dataframe\">\n",
              "  <thead>\n",
              "    <tr style=\"text-align: right;\">\n",
              "      <th></th>\n",
              "      <th>technicianid</th>\n",
              "      <th>phonenumber</th>\n",
              "      <th>experience</th>\n",
              "      <th>ratingsreceived</th>\n",
              "    </tr>\n",
              "  </thead>\n",
              "  <tbody>\n",
              "    <tr>\n",
              "      <th>count</th>\n",
              "      <td>200.000000</td>\n",
              "      <td>2.000000e+02</td>\n",
              "      <td>200.000000</td>\n",
              "      <td>200.00000</td>\n",
              "    </tr>\n",
              "    <tr>\n",
              "      <th>mean</th>\n",
              "      <td>100.500000</td>\n",
              "      <td>3.174231e+13</td>\n",
              "      <td>4.705000</td>\n",
              "      <td>4.29750</td>\n",
              "    </tr>\n",
              "    <tr>\n",
              "      <th>std</th>\n",
              "      <td>57.879185</td>\n",
              "      <td>2.821453e+13</td>\n",
              "      <td>3.590604</td>\n",
              "      <td>0.42027</td>\n",
              "    </tr>\n",
              "    <tr>\n",
              "      <th>min</th>\n",
              "      <td>1.000000</td>\n",
              "      <td>6.281075e+12</td>\n",
              "      <td>1.000000</td>\n",
              "      <td>3.50000</td>\n",
              "    </tr>\n",
              "    <tr>\n",
              "      <th>25%</th>\n",
              "      <td>50.750000</td>\n",
              "      <td>6.284485e+12</td>\n",
              "      <td>2.000000</td>\n",
              "      <td>4.00000</td>\n",
              "    </tr>\n",
              "    <tr>\n",
              "      <th>50%</th>\n",
              "      <td>100.500000</td>\n",
              "      <td>6.289188e+12</td>\n",
              "      <td>4.000000</td>\n",
              "      <td>4.30000</td>\n",
              "    </tr>\n",
              "    <tr>\n",
              "      <th>75%</th>\n",
              "      <td>150.250000</td>\n",
              "      <td>6.285395e+13</td>\n",
              "      <td>5.000000</td>\n",
              "      <td>4.70000</td>\n",
              "    </tr>\n",
              "    <tr>\n",
              "      <th>max</th>\n",
              "      <td>200.000000</td>\n",
              "      <td>6.289993e+13</td>\n",
              "      <td>15.000000</td>\n",
              "      <td>5.00000</td>\n",
              "    </tr>\n",
              "  </tbody>\n",
              "</table>\n",
              "</div>\n",
              "    <div class=\"colab-df-buttons\">\n",
              "\n",
              "  <div class=\"colab-df-container\">\n",
              "    <button class=\"colab-df-convert\" onclick=\"convertToInteractive('df-80978c36-c56f-4f71-beef-7e907385315c')\"\n",
              "            title=\"Convert this dataframe to an interactive table.\"\n",
              "            style=\"display:none;\">\n",
              "\n",
              "  <svg xmlns=\"http://www.w3.org/2000/svg\" height=\"24px\" viewBox=\"0 -960 960 960\">\n",
              "    <path d=\"M120-120v-720h720v720H120Zm60-500h600v-160H180v160Zm220 220h160v-160H400v160Zm0 220h160v-160H400v160ZM180-400h160v-160H180v160Zm440 0h160v-160H620v160ZM180-180h160v-160H180v160Zm440 0h160v-160H620v160Z\"/>\n",
              "  </svg>\n",
              "    </button>\n",
              "\n",
              "  <style>\n",
              "    .colab-df-container {\n",
              "      display:flex;\n",
              "      gap: 12px;\n",
              "    }\n",
              "\n",
              "    .colab-df-convert {\n",
              "      background-color: #E8F0FE;\n",
              "      border: none;\n",
              "      border-radius: 50%;\n",
              "      cursor: pointer;\n",
              "      display: none;\n",
              "      fill: #1967D2;\n",
              "      height: 32px;\n",
              "      padding: 0 0 0 0;\n",
              "      width: 32px;\n",
              "    }\n",
              "\n",
              "    .colab-df-convert:hover {\n",
              "      background-color: #E2EBFA;\n",
              "      box-shadow: 0px 1px 2px rgba(60, 64, 67, 0.3), 0px 1px 3px 1px rgba(60, 64, 67, 0.15);\n",
              "      fill: #174EA6;\n",
              "    }\n",
              "\n",
              "    .colab-df-buttons div {\n",
              "      margin-bottom: 4px;\n",
              "    }\n",
              "\n",
              "    [theme=dark] .colab-df-convert {\n",
              "      background-color: #3B4455;\n",
              "      fill: #D2E3FC;\n",
              "    }\n",
              "\n",
              "    [theme=dark] .colab-df-convert:hover {\n",
              "      background-color: #434B5C;\n",
              "      box-shadow: 0px 1px 3px 1px rgba(0, 0, 0, 0.15);\n",
              "      filter: drop-shadow(0px 1px 2px rgba(0, 0, 0, 0.3));\n",
              "      fill: #FFFFFF;\n",
              "    }\n",
              "  </style>\n",
              "\n",
              "    <script>\n",
              "      const buttonEl =\n",
              "        document.querySelector('#df-80978c36-c56f-4f71-beef-7e907385315c button.colab-df-convert');\n",
              "      buttonEl.style.display =\n",
              "        google.colab.kernel.accessAllowed ? 'block' : 'none';\n",
              "\n",
              "      async function convertToInteractive(key) {\n",
              "        const element = document.querySelector('#df-80978c36-c56f-4f71-beef-7e907385315c');\n",
              "        const dataTable =\n",
              "          await google.colab.kernel.invokeFunction('convertToInteractive',\n",
              "                                                    [key], {});\n",
              "        if (!dataTable) return;\n",
              "\n",
              "        const docLinkHtml = 'Like what you see? Visit the ' +\n",
              "          '<a target=\"_blank\" href=https://colab.research.google.com/notebooks/data_table.ipynb>data table notebook</a>'\n",
              "          + ' to learn more about interactive tables.';\n",
              "        element.innerHTML = '';\n",
              "        dataTable['output_type'] = 'display_data';\n",
              "        await google.colab.output.renderOutput(dataTable, element);\n",
              "        const docLink = document.createElement('div');\n",
              "        docLink.innerHTML = docLinkHtml;\n",
              "        element.appendChild(docLink);\n",
              "      }\n",
              "    </script>\n",
              "  </div>\n",
              "\n",
              "\n",
              "<div id=\"df-de8cf5db-9b63-4a4a-bb6a-bf59bf63e080\">\n",
              "  <button class=\"colab-df-quickchart\" onclick=\"quickchart('df-de8cf5db-9b63-4a4a-bb6a-bf59bf63e080')\"\n",
              "            title=\"Suggest charts\"\n",
              "            style=\"display:none;\">\n",
              "\n",
              "<svg xmlns=\"http://www.w3.org/2000/svg\" height=\"24px\"viewBox=\"0 0 24 24\"\n",
              "     width=\"24px\">\n",
              "    <g>\n",
              "        <path d=\"M19 3H5c-1.1 0-2 .9-2 2v14c0 1.1.9 2 2 2h14c1.1 0 2-.9 2-2V5c0-1.1-.9-2-2-2zM9 17H7v-7h2v7zm4 0h-2V7h2v10zm4 0h-2v-4h2v4z\"/>\n",
              "    </g>\n",
              "</svg>\n",
              "  </button>\n",
              "\n",
              "<style>\n",
              "  .colab-df-quickchart {\n",
              "      --bg-color: #E8F0FE;\n",
              "      --fill-color: #1967D2;\n",
              "      --hover-bg-color: #E2EBFA;\n",
              "      --hover-fill-color: #174EA6;\n",
              "      --disabled-fill-color: #AAA;\n",
              "      --disabled-bg-color: #DDD;\n",
              "  }\n",
              "\n",
              "  [theme=dark] .colab-df-quickchart {\n",
              "      --bg-color: #3B4455;\n",
              "      --fill-color: #D2E3FC;\n",
              "      --hover-bg-color: #434B5C;\n",
              "      --hover-fill-color: #FFFFFF;\n",
              "      --disabled-bg-color: #3B4455;\n",
              "      --disabled-fill-color: #666;\n",
              "  }\n",
              "\n",
              "  .colab-df-quickchart {\n",
              "    background-color: var(--bg-color);\n",
              "    border: none;\n",
              "    border-radius: 50%;\n",
              "    cursor: pointer;\n",
              "    display: none;\n",
              "    fill: var(--fill-color);\n",
              "    height: 32px;\n",
              "    padding: 0;\n",
              "    width: 32px;\n",
              "  }\n",
              "\n",
              "  .colab-df-quickchart:hover {\n",
              "    background-color: var(--hover-bg-color);\n",
              "    box-shadow: 0 1px 2px rgba(60, 64, 67, 0.3), 0 1px 3px 1px rgba(60, 64, 67, 0.15);\n",
              "    fill: var(--button-hover-fill-color);\n",
              "  }\n",
              "\n",
              "  .colab-df-quickchart-complete:disabled,\n",
              "  .colab-df-quickchart-complete:disabled:hover {\n",
              "    background-color: var(--disabled-bg-color);\n",
              "    fill: var(--disabled-fill-color);\n",
              "    box-shadow: none;\n",
              "  }\n",
              "\n",
              "  .colab-df-spinner {\n",
              "    border: 2px solid var(--fill-color);\n",
              "    border-color: transparent;\n",
              "    border-bottom-color: var(--fill-color);\n",
              "    animation:\n",
              "      spin 1s steps(1) infinite;\n",
              "  }\n",
              "\n",
              "  @keyframes spin {\n",
              "    0% {\n",
              "      border-color: transparent;\n",
              "      border-bottom-color: var(--fill-color);\n",
              "      border-left-color: var(--fill-color);\n",
              "    }\n",
              "    20% {\n",
              "      border-color: transparent;\n",
              "      border-left-color: var(--fill-color);\n",
              "      border-top-color: var(--fill-color);\n",
              "    }\n",
              "    30% {\n",
              "      border-color: transparent;\n",
              "      border-left-color: var(--fill-color);\n",
              "      border-top-color: var(--fill-color);\n",
              "      border-right-color: var(--fill-color);\n",
              "    }\n",
              "    40% {\n",
              "      border-color: transparent;\n",
              "      border-right-color: var(--fill-color);\n",
              "      border-top-color: var(--fill-color);\n",
              "    }\n",
              "    60% {\n",
              "      border-color: transparent;\n",
              "      border-right-color: var(--fill-color);\n",
              "    }\n",
              "    80% {\n",
              "      border-color: transparent;\n",
              "      border-right-color: var(--fill-color);\n",
              "      border-bottom-color: var(--fill-color);\n",
              "    }\n",
              "    90% {\n",
              "      border-color: transparent;\n",
              "      border-bottom-color: var(--fill-color);\n",
              "    }\n",
              "  }\n",
              "</style>\n",
              "\n",
              "  <script>\n",
              "    async function quickchart(key) {\n",
              "      const quickchartButtonEl =\n",
              "        document.querySelector('#' + key + ' button');\n",
              "      quickchartButtonEl.disabled = true;  // To prevent multiple clicks.\n",
              "      quickchartButtonEl.classList.add('colab-df-spinner');\n",
              "      try {\n",
              "        const charts = await google.colab.kernel.invokeFunction(\n",
              "            'suggestCharts', [key], {});\n",
              "      } catch (error) {\n",
              "        console.error('Error during call to suggestCharts:', error);\n",
              "      }\n",
              "      quickchartButtonEl.classList.remove('colab-df-spinner');\n",
              "      quickchartButtonEl.classList.add('colab-df-quickchart-complete');\n",
              "    }\n",
              "    (() => {\n",
              "      let quickchartButtonEl =\n",
              "        document.querySelector('#df-de8cf5db-9b63-4a4a-bb6a-bf59bf63e080 button');\n",
              "      quickchartButtonEl.style.display =\n",
              "        google.colab.kernel.accessAllowed ? 'block' : 'none';\n",
              "    })();\n",
              "  </script>\n",
              "</div>\n",
              "\n",
              "    </div>\n",
              "  </div>\n"
            ],
            "text/plain": [
              "       technicianid   phonenumber  experience  ratingsreceived\n",
              "count    200.000000  2.000000e+02  200.000000        200.00000\n",
              "mean     100.500000  3.174231e+13    4.705000          4.29750\n",
              "std       57.879185  2.821453e+13    3.590604          0.42027\n",
              "min        1.000000  6.281075e+12    1.000000          3.50000\n",
              "25%       50.750000  6.284485e+12    2.000000          4.00000\n",
              "50%      100.500000  6.289188e+12    4.000000          4.30000\n",
              "75%      150.250000  6.285395e+13    5.000000          4.70000\n",
              "max      200.000000  6.289993e+13   15.000000          5.00000"
            ]
          },
          "execution_count": 62,
          "metadata": {},
          "output_type": "execute_result"
        }
      ],
      "source": [
        "technicians_df.describe()"
      ]
    },
    {
      "cell_type": "code",
      "execution_count": 63,
      "metadata": {
        "colab": {
          "base_uri": "https://localhost:8080/",
          "height": 300
        },
        "id": "ePX-5nZ2EhE9",
        "outputId": "407d44a1-a83c-4396-a34a-511a7a54b7c9"
      },
      "outputs": [
        {
          "data": {
            "application/vnd.google.colaboratory.intrinsic+json": {
              "summary": "{\n  \"name\": \"users_df\",\n  \"rows\": 8,\n  \"fields\": [\n    {\n      \"column\": \"userid\",\n      \"properties\": {\n        \"dtype\": \"number\",\n        \"std\": 89.79662880154827,\n        \"min\": 1.0,\n        \"max\": 250.0,\n        \"num_unique_values\": 6,\n        \"samples\": [\n          250.0,\n          125.5,\n          187.75\n        ],\n        \"semantic_type\": \"\",\n        \"description\": \"\"\n      }\n    }\n  ]\n}",
              "type": "dataframe"
            },
            "text/html": [
              "\n",
              "  <div id=\"df-8cdee08f-48c7-46b7-9890-1147b61af4f6\" class=\"colab-df-container\">\n",
              "    <div>\n",
              "<style scoped>\n",
              "    .dataframe tbody tr th:only-of-type {\n",
              "        vertical-align: middle;\n",
              "    }\n",
              "\n",
              "    .dataframe tbody tr th {\n",
              "        vertical-align: top;\n",
              "    }\n",
              "\n",
              "    .dataframe thead th {\n",
              "        text-align: right;\n",
              "    }\n",
              "</style>\n",
              "<table border=\"1\" class=\"dataframe\">\n",
              "  <thead>\n",
              "    <tr style=\"text-align: right;\">\n",
              "      <th></th>\n",
              "      <th>userid</th>\n",
              "    </tr>\n",
              "  </thead>\n",
              "  <tbody>\n",
              "    <tr>\n",
              "      <th>count</th>\n",
              "      <td>250.000000</td>\n",
              "    </tr>\n",
              "    <tr>\n",
              "      <th>mean</th>\n",
              "      <td>125.500000</td>\n",
              "    </tr>\n",
              "    <tr>\n",
              "      <th>std</th>\n",
              "      <td>72.312977</td>\n",
              "    </tr>\n",
              "    <tr>\n",
              "      <th>min</th>\n",
              "      <td>1.000000</td>\n",
              "    </tr>\n",
              "    <tr>\n",
              "      <th>25%</th>\n",
              "      <td>63.250000</td>\n",
              "    </tr>\n",
              "    <tr>\n",
              "      <th>50%</th>\n",
              "      <td>125.500000</td>\n",
              "    </tr>\n",
              "    <tr>\n",
              "      <th>75%</th>\n",
              "      <td>187.750000</td>\n",
              "    </tr>\n",
              "    <tr>\n",
              "      <th>max</th>\n",
              "      <td>250.000000</td>\n",
              "    </tr>\n",
              "  </tbody>\n",
              "</table>\n",
              "</div>\n",
              "    <div class=\"colab-df-buttons\">\n",
              "\n",
              "  <div class=\"colab-df-container\">\n",
              "    <button class=\"colab-df-convert\" onclick=\"convertToInteractive('df-8cdee08f-48c7-46b7-9890-1147b61af4f6')\"\n",
              "            title=\"Convert this dataframe to an interactive table.\"\n",
              "            style=\"display:none;\">\n",
              "\n",
              "  <svg xmlns=\"http://www.w3.org/2000/svg\" height=\"24px\" viewBox=\"0 -960 960 960\">\n",
              "    <path d=\"M120-120v-720h720v720H120Zm60-500h600v-160H180v160Zm220 220h160v-160H400v160Zm0 220h160v-160H400v160ZM180-400h160v-160H180v160Zm440 0h160v-160H620v160ZM180-180h160v-160H180v160Zm440 0h160v-160H620v160Z\"/>\n",
              "  </svg>\n",
              "    </button>\n",
              "\n",
              "  <style>\n",
              "    .colab-df-container {\n",
              "      display:flex;\n",
              "      gap: 12px;\n",
              "    }\n",
              "\n",
              "    .colab-df-convert {\n",
              "      background-color: #E8F0FE;\n",
              "      border: none;\n",
              "      border-radius: 50%;\n",
              "      cursor: pointer;\n",
              "      display: none;\n",
              "      fill: #1967D2;\n",
              "      height: 32px;\n",
              "      padding: 0 0 0 0;\n",
              "      width: 32px;\n",
              "    }\n",
              "\n",
              "    .colab-df-convert:hover {\n",
              "      background-color: #E2EBFA;\n",
              "      box-shadow: 0px 1px 2px rgba(60, 64, 67, 0.3), 0px 1px 3px 1px rgba(60, 64, 67, 0.15);\n",
              "      fill: #174EA6;\n",
              "    }\n",
              "\n",
              "    .colab-df-buttons div {\n",
              "      margin-bottom: 4px;\n",
              "    }\n",
              "\n",
              "    [theme=dark] .colab-df-convert {\n",
              "      background-color: #3B4455;\n",
              "      fill: #D2E3FC;\n",
              "    }\n",
              "\n",
              "    [theme=dark] .colab-df-convert:hover {\n",
              "      background-color: #434B5C;\n",
              "      box-shadow: 0px 1px 3px 1px rgba(0, 0, 0, 0.15);\n",
              "      filter: drop-shadow(0px 1px 2px rgba(0, 0, 0, 0.3));\n",
              "      fill: #FFFFFF;\n",
              "    }\n",
              "  </style>\n",
              "\n",
              "    <script>\n",
              "      const buttonEl =\n",
              "        document.querySelector('#df-8cdee08f-48c7-46b7-9890-1147b61af4f6 button.colab-df-convert');\n",
              "      buttonEl.style.display =\n",
              "        google.colab.kernel.accessAllowed ? 'block' : 'none';\n",
              "\n",
              "      async function convertToInteractive(key) {\n",
              "        const element = document.querySelector('#df-8cdee08f-48c7-46b7-9890-1147b61af4f6');\n",
              "        const dataTable =\n",
              "          await google.colab.kernel.invokeFunction('convertToInteractive',\n",
              "                                                    [key], {});\n",
              "        if (!dataTable) return;\n",
              "\n",
              "        const docLinkHtml = 'Like what you see? Visit the ' +\n",
              "          '<a target=\"_blank\" href=https://colab.research.google.com/notebooks/data_table.ipynb>data table notebook</a>'\n",
              "          + ' to learn more about interactive tables.';\n",
              "        element.innerHTML = '';\n",
              "        dataTable['output_type'] = 'display_data';\n",
              "        await google.colab.output.renderOutput(dataTable, element);\n",
              "        const docLink = document.createElement('div');\n",
              "        docLink.innerHTML = docLinkHtml;\n",
              "        element.appendChild(docLink);\n",
              "      }\n",
              "    </script>\n",
              "  </div>\n",
              "\n",
              "\n",
              "<div id=\"df-4698526a-2daa-4104-af8e-4abbd0ef5ce3\">\n",
              "  <button class=\"colab-df-quickchart\" onclick=\"quickchart('df-4698526a-2daa-4104-af8e-4abbd0ef5ce3')\"\n",
              "            title=\"Suggest charts\"\n",
              "            style=\"display:none;\">\n",
              "\n",
              "<svg xmlns=\"http://www.w3.org/2000/svg\" height=\"24px\"viewBox=\"0 0 24 24\"\n",
              "     width=\"24px\">\n",
              "    <g>\n",
              "        <path d=\"M19 3H5c-1.1 0-2 .9-2 2v14c0 1.1.9 2 2 2h14c1.1 0 2-.9 2-2V5c0-1.1-.9-2-2-2zM9 17H7v-7h2v7zm4 0h-2V7h2v10zm4 0h-2v-4h2v4z\"/>\n",
              "    </g>\n",
              "</svg>\n",
              "  </button>\n",
              "\n",
              "<style>\n",
              "  .colab-df-quickchart {\n",
              "      --bg-color: #E8F0FE;\n",
              "      --fill-color: #1967D2;\n",
              "      --hover-bg-color: #E2EBFA;\n",
              "      --hover-fill-color: #174EA6;\n",
              "      --disabled-fill-color: #AAA;\n",
              "      --disabled-bg-color: #DDD;\n",
              "  }\n",
              "\n",
              "  [theme=dark] .colab-df-quickchart {\n",
              "      --bg-color: #3B4455;\n",
              "      --fill-color: #D2E3FC;\n",
              "      --hover-bg-color: #434B5C;\n",
              "      --hover-fill-color: #FFFFFF;\n",
              "      --disabled-bg-color: #3B4455;\n",
              "      --disabled-fill-color: #666;\n",
              "  }\n",
              "\n",
              "  .colab-df-quickchart {\n",
              "    background-color: var(--bg-color);\n",
              "    border: none;\n",
              "    border-radius: 50%;\n",
              "    cursor: pointer;\n",
              "    display: none;\n",
              "    fill: var(--fill-color);\n",
              "    height: 32px;\n",
              "    padding: 0;\n",
              "    width: 32px;\n",
              "  }\n",
              "\n",
              "  .colab-df-quickchart:hover {\n",
              "    background-color: var(--hover-bg-color);\n",
              "    box-shadow: 0 1px 2px rgba(60, 64, 67, 0.3), 0 1px 3px 1px rgba(60, 64, 67, 0.15);\n",
              "    fill: var(--button-hover-fill-color);\n",
              "  }\n",
              "\n",
              "  .colab-df-quickchart-complete:disabled,\n",
              "  .colab-df-quickchart-complete:disabled:hover {\n",
              "    background-color: var(--disabled-bg-color);\n",
              "    fill: var(--disabled-fill-color);\n",
              "    box-shadow: none;\n",
              "  }\n",
              "\n",
              "  .colab-df-spinner {\n",
              "    border: 2px solid var(--fill-color);\n",
              "    border-color: transparent;\n",
              "    border-bottom-color: var(--fill-color);\n",
              "    animation:\n",
              "      spin 1s steps(1) infinite;\n",
              "  }\n",
              "\n",
              "  @keyframes spin {\n",
              "    0% {\n",
              "      border-color: transparent;\n",
              "      border-bottom-color: var(--fill-color);\n",
              "      border-left-color: var(--fill-color);\n",
              "    }\n",
              "    20% {\n",
              "      border-color: transparent;\n",
              "      border-left-color: var(--fill-color);\n",
              "      border-top-color: var(--fill-color);\n",
              "    }\n",
              "    30% {\n",
              "      border-color: transparent;\n",
              "      border-left-color: var(--fill-color);\n",
              "      border-top-color: var(--fill-color);\n",
              "      border-right-color: var(--fill-color);\n",
              "    }\n",
              "    40% {\n",
              "      border-color: transparent;\n",
              "      border-right-color: var(--fill-color);\n",
              "      border-top-color: var(--fill-color);\n",
              "    }\n",
              "    60% {\n",
              "      border-color: transparent;\n",
              "      border-right-color: var(--fill-color);\n",
              "    }\n",
              "    80% {\n",
              "      border-color: transparent;\n",
              "      border-right-color: var(--fill-color);\n",
              "      border-bottom-color: var(--fill-color);\n",
              "    }\n",
              "    90% {\n",
              "      border-color: transparent;\n",
              "      border-bottom-color: var(--fill-color);\n",
              "    }\n",
              "  }\n",
              "</style>\n",
              "\n",
              "  <script>\n",
              "    async function quickchart(key) {\n",
              "      const quickchartButtonEl =\n",
              "        document.querySelector('#' + key + ' button');\n",
              "      quickchartButtonEl.disabled = true;  // To prevent multiple clicks.\n",
              "      quickchartButtonEl.classList.add('colab-df-spinner');\n",
              "      try {\n",
              "        const charts = await google.colab.kernel.invokeFunction(\n",
              "            'suggestCharts', [key], {});\n",
              "      } catch (error) {\n",
              "        console.error('Error during call to suggestCharts:', error);\n",
              "      }\n",
              "      quickchartButtonEl.classList.remove('colab-df-spinner');\n",
              "      quickchartButtonEl.classList.add('colab-df-quickchart-complete');\n",
              "    }\n",
              "    (() => {\n",
              "      let quickchartButtonEl =\n",
              "        document.querySelector('#df-4698526a-2daa-4104-af8e-4abbd0ef5ce3 button');\n",
              "      quickchartButtonEl.style.display =\n",
              "        google.colab.kernel.accessAllowed ? 'block' : 'none';\n",
              "    })();\n",
              "  </script>\n",
              "</div>\n",
              "\n",
              "    </div>\n",
              "  </div>\n"
            ],
            "text/plain": [
              "           userid\n",
              "count  250.000000\n",
              "mean   125.500000\n",
              "std     72.312977\n",
              "min      1.000000\n",
              "25%     63.250000\n",
              "50%    125.500000\n",
              "75%    187.750000\n",
              "max    250.000000"
            ]
          },
          "execution_count": 63,
          "metadata": {},
          "output_type": "execute_result"
        }
      ],
      "source": [
        "users_df.describe()"
      ]
    },
    {
      "cell_type": "markdown",
      "metadata": {
        "id": "22cl7Q5fEp72"
      },
      "source": [
        "## **2. Data Preprocessing**\n",
        "Drop Irrelevant Column"
      ]
    },
    {
      "cell_type": "code",
      "execution_count": 64,
      "metadata": {
        "id": "jOfBmJ85eq9V"
      },
      "outputs": [],
      "source": [
        "technicians_df = technicians_df.drop(['email', 'phonenumber', 'location', 'address'], axis=1)"
      ]
    },
    {
      "cell_type": "markdown",
      "metadata": {
        "id": "vscgBcPbemES"
      },
      "source": [
        "Handling Missing Values"
      ]
    },
    {
      "cell_type": "code",
      "execution_count": 65,
      "metadata": {
        "id": "YOaoS96pFIdO"
      },
      "outputs": [],
      "source": [
        "technicians_df['skills'] = technicians_df['skills'].fillna('')\n",
        "technicians_df['certifications'] = technicians_df['certifications'].fillna('None')"
      ]
    },
    {
      "cell_type": "code",
      "execution_count": 66,
      "metadata": {
        "id": "yOdqzpaMe0PR"
      },
      "outputs": [],
      "source": [
        "technicians_df['experience'] = technicians_df['experience'].fillna(0)\n",
        "technicians_df['ratingsreceived'] = technicians_df['ratingsreceived'].fillna(0)"
      ]
    },
    {
      "cell_type": "markdown",
      "metadata": {
        "id": "d9w4ErJMgyoL"
      },
      "source": [
        "Convert to Lowercase"
      ]
    },
    {
      "cell_type": "code",
      "execution_count": 67,
      "metadata": {
        "id": "vZkUQyORgzdB"
      },
      "outputs": [],
      "source": [
        "technicians_df['skills'] = technicians_df['skills'].str.lower()\n",
        "technicians_df['certifications'] = technicians_df['certifications'].str.lower()"
      ]
    },
    {
      "cell_type": "markdown",
      "metadata": {
        "id": "pedAPlb9gajJ"
      },
      "source": [
        "## **3. Content-Based Filtering**"
      ]
    },
    {
      "cell_type": "markdown",
      "metadata": {
        "id": "J-wGNXdj2AcO"
      },
      "source": [
        "### **3.1 Model Development**\n",
        "Text feature extraction using TF-IDF Vectorizer"
      ]
    },
    {
      "cell_type": "code",
      "execution_count": 68,
      "metadata": {
        "id": "V3A_3NNBgxMl"
      },
      "outputs": [],
      "source": [
        "tfidf = TfidfVectorizer()\n",
        "skills_tfidf = tfidf.fit_transform(technicians_df['skills']).toarray()"
      ]
    },
    {
      "cell_type": "markdown",
      "metadata": {
        "id": "AMRY3e7BmRo6"
      },
      "source": [
        "Normalize using StandardScaler"
      ]
    },
    {
      "cell_type": "code",
      "execution_count": 69,
      "metadata": {
        "id": "Mnp_dtcAlQZ0"
      },
      "outputs": [],
      "source": [
        "scaler_experience = StandardScaler()\n",
        "scaler_ratings = StandardScaler()\n",
        "\n",
        "# Fit and transform the 'experience' column\n",
        "technicians_df['experience'] = scaler_experience.fit_transform(technicians_df[['experience']])\n",
        "\n",
        "# Fit and transform the 'ratings' column\n",
        "technicians_df['ratingsreceived'] = scaler_ratings.fit_transform(technicians_df[['ratingsreceived']])"
      ]
    },
    {
      "cell_type": "markdown",
      "metadata": {
        "id": "CcbFvDQgnode"
      },
      "source": [
        "Encoding Categorical Data using One-Hot Encoding"
      ]
    },
    {
      "cell_type": "code",
      "execution_count": 70,
      "metadata": {
        "id": "dXLlo2_lofaa"
      },
      "outputs": [],
      "source": [
        "encoder = OneHotEncoder(handle_unknown='ignore')\n",
        "\n",
        "# Fit the encoder to the 'certifications' column and transform the data\n",
        "certifications_encoded_sparse = encoder.fit_transform(technicians_df[['certifications']])\n",
        "\n",
        "# Convert the sparse matrix to a dense array if needed\n",
        "certifications_encoded = certifications_encoded_sparse.toarray()\n",
        "\n",
        "# Convert the encoded data into a DataFrame with appropriate column names\n",
        "certifications_encoded_df = pd.DataFrame(certifications_encoded, columns=encoder.get_feature_names_out())\n"
      ]
    },
    {
      "cell_type": "markdown",
      "metadata": {
        "id": "2y9ilW1KsHn2"
      },
      "source": [
        "Combining Features"
      ]
    },
    {
      "cell_type": "code",
      "execution_count": 71,
      "metadata": {
        "id": "g3ukRt2KsRiM"
      },
      "outputs": [],
      "source": [
        "X_exp = technicians_df['experience'].values.reshape(-1, 1)\n",
        "X_rating = technicians_df['ratingsreceived'].values.reshape(-1, 1)\n",
        "X_cert = certifications_encoded\n",
        "\n",
        "# Combine features into a single array\n",
        "X = np.hstack([skills_tfidf, X_exp, X_cert, X_rating])"
      ]
    },
    {
      "cell_type": "markdown",
      "metadata": {
        "id": "85AeO4Z07zwE"
      },
      "source": [
        "### **3.2 Model Training**"
      ]
    },
    {
      "cell_type": "code",
      "execution_count": 72,
      "metadata": {
        "id": "y5hbg7uyuePj"
      },
      "outputs": [],
      "source": [
        "def build_content_based_model(input_dim):\n",
        "    model = Sequential()\n",
        "    model.add(Dense(256, input_dim=input_dim, activation='relu'))\n",
        "    model.add(Dropout(0.3))\n",
        "    model.add(Dense(128, activation='relu'))\n",
        "    model.add(Dropout(0.3))\n",
        "    model.add(Dense(64, activation='relu'))\n",
        "    model.add(Dense(32, activation='relu'))\n",
        "    model.add(Dense(input_dim, activation='linear'))\n",
        "    model.compile(optimizer=Adam(learning_rate=0.001), loss='mean_squared_error')\n",
        "    return model"
      ]
    },
    {
      "cell_type": "code",
      "execution_count": 73,
      "metadata": {
        "colab": {
          "base_uri": "https://localhost:8080/"
        },
        "id": "XBThbASf88Lq",
        "outputId": "f70d46d4-dc65-4fc0-b055-89a83c847401"
      },
      "outputs": [
        {
          "name": "stdout",
          "output_type": "stream",
          "text": [
            "Epoch 1/50\n",
            "5/5 [==============================] - 2s 58ms/step - loss: 0.0924 - val_loss: 0.0835\n",
            "Epoch 2/50\n",
            "5/5 [==============================] - 0s 11ms/step - loss: 0.0870 - val_loss: 0.0791\n",
            "Epoch 3/50\n",
            "5/5 [==============================] - 0s 11ms/step - loss: 0.0818 - val_loss: 0.0748\n",
            "Epoch 4/50\n",
            "5/5 [==============================] - 0s 24ms/step - loss: 0.0763 - val_loss: 0.0706\n",
            "Epoch 5/50\n",
            "5/5 [==============================] - 0s 21ms/step - loss: 0.0713 - val_loss: 0.0662\n",
            "Epoch 6/50\n",
            "5/5 [==============================] - 0s 23ms/step - loss: 0.0664 - val_loss: 0.0619\n",
            "Epoch 7/50\n",
            "5/5 [==============================] - 0s 20ms/step - loss: 0.0623 - val_loss: 0.0577\n",
            "Epoch 8/50\n",
            "5/5 [==============================] - 0s 17ms/step - loss: 0.0576 - val_loss: 0.0540\n",
            "Epoch 9/50\n",
            "5/5 [==============================] - 0s 15ms/step - loss: 0.0537 - val_loss: 0.0506\n",
            "Epoch 10/50\n",
            "5/5 [==============================] - 0s 13ms/step - loss: 0.0498 - val_loss: 0.0478\n",
            "Epoch 11/50\n",
            "5/5 [==============================] - 0s 10ms/step - loss: 0.0464 - val_loss: 0.0450\n",
            "Epoch 12/50\n",
            "5/5 [==============================] - 0s 12ms/step - loss: 0.0436 - val_loss: 0.0422\n",
            "Epoch 13/50\n",
            "5/5 [==============================] - 0s 15ms/step - loss: 0.0410 - val_loss: 0.0399\n",
            "Epoch 14/50\n",
            "5/5 [==============================] - 0s 12ms/step - loss: 0.0388 - val_loss: 0.0382\n",
            "Epoch 15/50\n",
            "5/5 [==============================] - 0s 11ms/step - loss: 0.0376 - val_loss: 0.0360\n",
            "Epoch 16/50\n",
            "5/5 [==============================] - 0s 12ms/step - loss: 0.0357 - val_loss: 0.0343\n",
            "Epoch 17/50\n",
            "5/5 [==============================] - 0s 12ms/step - loss: 0.0345 - val_loss: 0.0332\n",
            "Epoch 18/50\n",
            "5/5 [==============================] - 0s 26ms/step - loss: 0.0327 - val_loss: 0.0322\n",
            "Epoch 19/50\n",
            "5/5 [==============================] - 0s 29ms/step - loss: 0.0323 - val_loss: 0.0312\n",
            "Epoch 20/50\n",
            "5/5 [==============================] - 0s 18ms/step - loss: 0.0317 - val_loss: 0.0301\n",
            "Epoch 21/50\n",
            "5/5 [==============================] - 0s 25ms/step - loss: 0.0311 - val_loss: 0.0296\n",
            "Epoch 22/50\n",
            "5/5 [==============================] - 0s 30ms/step - loss: 0.0300 - val_loss: 0.0294\n",
            "Epoch 23/50\n",
            "5/5 [==============================] - 0s 20ms/step - loss: 0.0302 - val_loss: 0.0282\n",
            "Epoch 24/50\n",
            "5/5 [==============================] - 0s 35ms/step - loss: 0.0280 - val_loss: 0.0273\n",
            "Epoch 25/50\n",
            "5/5 [==============================] - 0s 19ms/step - loss: 0.0283 - val_loss: 0.0270\n",
            "Epoch 26/50\n",
            "5/5 [==============================] - 0s 32ms/step - loss: 0.0274 - val_loss: 0.0269\n",
            "Epoch 27/50\n",
            "5/5 [==============================] - 0s 20ms/step - loss: 0.0275 - val_loss: 0.0264\n",
            "Epoch 28/50\n",
            "5/5 [==============================] - 0s 34ms/step - loss: 0.0271 - val_loss: 0.0256\n",
            "Epoch 29/50\n",
            "5/5 [==============================] - 0s 36ms/step - loss: 0.0264 - val_loss: 0.0250\n",
            "Epoch 30/50\n",
            "5/5 [==============================] - 0s 25ms/step - loss: 0.0261 - val_loss: 0.0244\n",
            "Epoch 31/50\n",
            "5/5 [==============================] - 0s 52ms/step - loss: 0.0251 - val_loss: 0.0239\n",
            "Epoch 32/50\n",
            "5/5 [==============================] - 0s 19ms/step - loss: 0.0250 - val_loss: 0.0236\n",
            "Epoch 33/50\n",
            "5/5 [==============================] - 0s 35ms/step - loss: 0.0239 - val_loss: 0.0236\n",
            "Epoch 34/50\n",
            "5/5 [==============================] - 0s 25ms/step - loss: 0.0239 - val_loss: 0.0228\n",
            "Epoch 35/50\n",
            "5/5 [==============================] - 0s 20ms/step - loss: 0.0239 - val_loss: 0.0223\n",
            "Epoch 36/50\n",
            "5/5 [==============================] - 0s 22ms/step - loss: 0.0232 - val_loss: 0.0217\n",
            "Epoch 37/50\n",
            "5/5 [==============================] - 0s 30ms/step - loss: 0.0228 - val_loss: 0.0215\n",
            "Epoch 38/50\n",
            "5/5 [==============================] - 0s 23ms/step - loss: 0.0229 - val_loss: 0.0212\n",
            "Epoch 39/50\n",
            "5/5 [==============================] - 0s 28ms/step - loss: 0.0223 - val_loss: 0.0209\n",
            "Epoch 40/50\n",
            "5/5 [==============================] - 0s 28ms/step - loss: 0.0224 - val_loss: 0.0205\n",
            "Epoch 41/50\n",
            "5/5 [==============================] - 0s 19ms/step - loss: 0.0218 - val_loss: 0.0205\n",
            "Epoch 42/50\n",
            "5/5 [==============================] - 0s 20ms/step - loss: 0.0206 - val_loss: 0.0203\n",
            "Epoch 43/50\n",
            "5/5 [==============================] - 0s 21ms/step - loss: 0.0213 - val_loss: 0.0199\n",
            "Epoch 44/50\n",
            "5/5 [==============================] - 0s 25ms/step - loss: 0.0202 - val_loss: 0.0196\n",
            "Epoch 45/50\n",
            "5/5 [==============================] - 0s 21ms/step - loss: 0.0201 - val_loss: 0.0195\n",
            "Epoch 46/50\n",
            "5/5 [==============================] - 0s 22ms/step - loss: 0.0205 - val_loss: 0.0190\n",
            "Epoch 47/50\n",
            "5/5 [==============================] - 0s 17ms/step - loss: 0.0203 - val_loss: 0.0187\n",
            "Epoch 48/50\n",
            "5/5 [==============================] - 0s 36ms/step - loss: 0.0197 - val_loss: 0.0187\n",
            "Epoch 49/50\n",
            "5/5 [==============================] - 0s 41ms/step - loss: 0.0198 - val_loss: 0.0185\n",
            "Epoch 50/50\n",
            "5/5 [==============================] - 0s 42ms/step - loss: 0.0197 - val_loss: 0.0182\n"
          ]
        },
        {
          "data": {
            "text/plain": [
              "<keras.src.callbacks.History at 0x7c50da391900>"
            ]
          },
          "execution_count": 73,
          "metadata": {},
          "output_type": "execute_result"
        }
      ],
      "source": [
        "model_cb = build_content_based_model(X.shape[1])\n",
        "model_cb.fit(X, X, epochs=50, batch_size=32, validation_split=0.2)"
      ]
    },
    {
      "cell_type": "markdown",
      "metadata": {
        "id": "CXbGkeToAJqa"
      },
      "source": [
        "### **3.3 Model Evaluation**"
      ]
    },
    {
      "cell_type": "code",
      "execution_count": 74,
      "metadata": {
        "colab": {
          "base_uri": "https://localhost:8080/"
        },
        "id": "ieX2mM1NAI-K",
        "outputId": "9587f196-87cd-4fbf-f4d3-937220698bba"
      },
      "outputs": [
        {
          "name": "stdout",
          "output_type": "stream",
          "text": [
            "7/7 [==============================] - 0s 4ms/step\n",
            "Mean Squared Error: 0.01449625289735206\n",
            "Mean Absolute Error: 0.0723996895230996\n",
            "R^2 Score: 0.21860523987799654\n"
          ]
        }
      ],
      "source": [
        "y_pred = model_cb.predict(X)\n",
        "mse = mean_squared_error(X, y_pred)\n",
        "mae = mean_absolute_error(X, y_pred)\n",
        "r2 = r2_score(X, y_pred)\n",
        "\n",
        "print(\"Mean Squared Error:\", mse)\n",
        "print(\"Mean Absolute Error:\", mae)\n",
        "print(\"R^2 Score:\", r2)"
      ]
    },
    {
      "cell_type": "markdown",
      "metadata": {
        "id": "l98ZJSUW_rSX"
      },
      "source": [
        "### **3.4 Model Optimization**\n",
        "Model optimization using Keras Tuner"
      ]
    },
    {
      "cell_type": "code",
      "execution_count": 75,
      "metadata": {
        "id": "CcUndjrmRCCV"
      },
      "outputs": [],
      "source": [
        "def optimized_content_based_model(hp):\n",
        "    model = Sequential()\n",
        "    model.add(Dense(hp.Int('units1', min_value=128, max_value=512, step=32), input_dim=X.shape[1], activation='relu'))\n",
        "    model.add(Dropout(hp.Float('dropout1', min_value=0.2, max_value=0.5, step=0.1)))\n",
        "    model.add(Dense(hp.Int('units2', min_value=64, max_value=256, step=32), activation='relu'))\n",
        "    model.add(Dropout(hp.Float('dropout2', min_value=0.2, max_value=0.5, step=0.1)))\n",
        "    model.add(Dense(hp.Int('units3', min_value=32, max_value=128, step=16), activation='relu'))\n",
        "    model.add(Dense(X.shape[1], activation='linear'))\n",
        "    model.compile(optimizer=Adam(learning_rate=hp.Float('learning_rate', min_value=1e-4, max_value=1e-2, sampling='log')),\n",
        "                  loss='mean_squared_error', metrics=['mean_absolute_error'])\n",
        "    return model"
      ]
    },
    {
      "cell_type": "code",
      "execution_count": 76,
      "metadata": {
        "colab": {
          "base_uri": "https://localhost:8080/"
        },
        "id": "UME9_4woRLyA",
        "outputId": "f5ab7915-d088-4dfb-962f-f508ecc61e2e"
      },
      "outputs": [
        {
          "name": "stdout",
          "output_type": "stream",
          "text": [
            "Reloading Tuner from my_dir/content_based/tuner0.json\n"
          ]
        }
      ],
      "source": [
        "tuner_cb = kt.Hyperband(\n",
        "    optimized_content_based_model,\n",
        "    objective='val_mean_absolute_error',\n",
        "    max_epochs=50,\n",
        "    factor=3,\n",
        "    directory='my_dir',\n",
        "    project_name='content_based'\n",
        ")"
      ]
    },
    {
      "cell_type": "code",
      "execution_count": 77,
      "metadata": {
        "colab": {
          "base_uri": "https://localhost:8080/"
        },
        "id": "6dhfbIrSh_P_",
        "outputId": "b4317c7c-84f2-4e58-9980-c06b9f3eb584"
      },
      "outputs": [
        {
          "name": "stdout",
          "output_type": "stream",
          "text": [
            "Model: \"sequential\"\n",
            "_________________________________________________________________\n",
            " Layer (type)                Output Shape              Param #   \n",
            "=================================================================\n",
            " dense (Dense)               (None, 224)               9856      \n",
            "                                                                 \n",
            " dropout (Dropout)           (None, 224)               0         \n",
            "                                                                 \n",
            " dense_1 (Dense)             (None, 192)               43200     \n",
            "                                                                 \n",
            " dropout_1 (Dropout)         (None, 192)               0         \n",
            "                                                                 \n",
            " dense_2 (Dense)             (None, 80)                15440     \n",
            "                                                                 \n",
            " dense_3 (Dense)             (None, 43)                3483      \n",
            "                                                                 \n",
            "=================================================================\n",
            "Total params: 71979 (281.17 KB)\n",
            "Trainable params: 71979 (281.17 KB)\n",
            "Non-trainable params: 0 (0.00 Byte)\n",
            "_________________________________________________________________\n"
          ]
        }
      ],
      "source": [
        "early_stopping = EarlyStopping(\n",
        "    monitor='val_mean_absolute_error',\n",
        "    patience=10,\n",
        "    restore_best_weights=True\n",
        ")\n",
        "\n",
        "tuner_cb.search(X, X, epochs=50, validation_split=0.2, callbacks=[early_stopping])\n",
        "\n",
        "# Get the best model\n",
        "model_cb = tuner_cb.get_best_models(num_models=1)[0]\n",
        "\n",
        "# Summary of the best model\n",
        "model_cb.summary()"
      ]
    },
    {
      "cell_type": "code",
      "execution_count": 78,
      "metadata": {
        "colab": {
          "base_uri": "https://localhost:8080/"
        },
        "id": "1_OsQH90RPt8",
        "outputId": "da83ae16-a485-4b8f-d17f-4707ca2ac422"
      },
      "outputs": [
        {
          "name": "stdout",
          "output_type": "stream",
          "text": [
            "Cross-validation MSE scores: [0.038134895265102386, 0.034582287073135376, 0.03096747025847435, 0.03729989007115364, 0.03417227789759636]\n",
            "Mean CV MSE: 0.03503136411309242\n"
          ]
        }
      ],
      "source": [
        "kf = KFold(n_splits=5, shuffle=True, random_state=42)\n",
        "cv_scores = []\n",
        "\n",
        "for train_index, val_index in kf.split(X):\n",
        "    X_train, X_val = X[train_index], X[val_index]\n",
        "    history = model_cb.fit(X_train, X_train, epochs=50, validation_data=(X_val, X_val), callbacks=[early_stopping], verbose=0)\n",
        "    val_loss, val_mae = model_cb.evaluate(X_val, X_val, verbose=0)\n",
        "    cv_scores.append(val_mae)\n",
        "\n",
        "print(f'Cross-validation MSE scores: {cv_scores}')\n",
        "print(f'Mean CV MSE: {np.mean(cv_scores)}')"
      ]
    },
    {
      "cell_type": "markdown",
      "metadata": {
        "id": "I7nxlFAb3R-V"
      },
      "source": [
        "Save the model and preprocessing objects"
      ]
    },
    {
      "cell_type": "code",
      "execution_count": 79,
      "metadata": {
        "colab": {
          "base_uri": "https://localhost:8080/"
        },
        "id": "Bz3bY1JfBSH4",
        "outputId": "4b5ab392-b4f7-402c-9e7e-f35e18753a13"
      },
      "outputs": [
        {
          "name": "stdout",
          "output_type": "stream",
          "text": [
            "Model and preprocessing objects saved.\n"
          ]
        },
        {
          "name": "stderr",
          "output_type": "stream",
          "text": [
            "/usr/local/lib/python3.10/dist-packages/keras/src/engine/training.py:3103: UserWarning: You are saving your model as an HDF5 file via `model.save()`. This file format is considered legacy. We recommend using instead the native Keras format, e.g. `model.save('my_model.keras')`.\n",
            "  saving_api.save_model(\n"
          ]
        }
      ],
      "source": [
        "model_cb_path = 'content_based_filtering.h5'\n",
        "tfidf_path = 'tfidf_vectorizer.pkl'\n",
        "scaler_experience_path = 'scaler_experience.pkl'\n",
        "scaler_ratings_path = 'scaler_ratings.pkl'\n",
        "encoder_path = 'encoder.pkl'\n",
        "\n",
        "model_cb.save(model_cb_path)\n",
        "with open(tfidf_path, 'wb') as f:\n",
        "    pickle.dump(tfidf, f)\n",
        "with open(scaler_experience_path, 'wb') as f:\n",
        "    pickle.dump(scaler_experience, f)\n",
        "with open(scaler_ratings_path, 'wb') as f:\n",
        "    pickle.dump(scaler_ratings, f)\n",
        "with open(encoder_path, 'wb') as f:\n",
        "    pickle.dump(encoder, f)\n",
        "\n",
        "print(\"Model and preprocessing objects saved.\")"
      ]
    },
    {
      "cell_type": "markdown",
      "metadata": {
        "id": "v2tVBFIpfBkU"
      },
      "source": [
        "## **4. Collaborative Filtering**"
      ]
    },
    {
      "cell_type": "markdown",
      "metadata": {
        "id": "JsJU-a-k2FqZ"
      },
      "source": [
        "### **4.1 Model Development**\n",
        "Expand the technicianid and ratingsgiven columns"
      ]
    },
    {
      "cell_type": "code",
      "execution_count": 80,
      "metadata": {
        "id": "4ywvVoA4jXBV"
      },
      "outputs": [],
      "source": [
        "users_df['technicianid'] = users_df['technicianid'].apply(eval)\n",
        "users_df['ratingsgiven'] = users_df['ratingsgiven'].apply(eval)"
      ]
    },
    {
      "cell_type": "markdown",
      "metadata": {
        "id": "7frVD8Qrj10r"
      },
      "source": [
        "Create a list of all ratings"
      ]
    },
    {
      "cell_type": "code",
      "execution_count": 81,
      "metadata": {
        "id": "dY3F5ZPUjZ-w"
      },
      "outputs": [],
      "source": [
        "ratings = []\n",
        "for i, row in users_df.iterrows():\n",
        "    for tech_id, rating in zip(row['technicianid'], row['ratingsgiven']):\n",
        "        ratings.append([row['userid'], tech_id, rating])"
      ]
    },
    {
      "cell_type": "markdown",
      "metadata": {
        "id": "3CL8_to5j4ez"
      },
      "source": [
        "Convert to DataFrame"
      ]
    },
    {
      "cell_type": "code",
      "execution_count": 82,
      "metadata": {
        "id": "8d4yveQejd_W"
      },
      "outputs": [],
      "source": [
        "ratings_df = pd.DataFrame(ratings, columns=['userid', 'technicianid', 'rating'])"
      ]
    },
    {
      "cell_type": "markdown",
      "metadata": {
        "id": "gPT9xQwOjM3R"
      },
      "source": [
        "Map user and technician IDs to indices"
      ]
    },
    {
      "cell_type": "code",
      "execution_count": 83,
      "metadata": {
        "id": "E04fBTQSRT7a"
      },
      "outputs": [],
      "source": [
        "user_id_map = {id: idx for idx, id in enumerate(ratings_df['userid'].unique())}\n",
        "technician_id_map = {id: idx for idx, id in enumerate(ratings_df['technicianid'].unique())}\n",
        "\n",
        "ratings_df['user_idx'] = ratings_df['userid'].map(user_id_map)\n",
        "ratings_df['technician_idx'] = ratings_df['technicianid'].map(technician_id_map)\n",
        "\n",
        "num_users = len(user_id_map)\n",
        "num_technicians = len(technician_id_map)"
      ]
    },
    {
      "cell_type": "markdown",
      "metadata": {
        "id": "f6lBs0mqVhYT"
      },
      "source": [
        "Split the data"
      ]
    },
    {
      "cell_type": "code",
      "execution_count": 84,
      "metadata": {
        "id": "u1SURFzfJqOo"
      },
      "outputs": [],
      "source": [
        "train_df, test_df = train_test_split(ratings_df, test_size=0.2, random_state=42)"
      ]
    },
    {
      "cell_type": "markdown",
      "metadata": {
        "id": "ddd-rMOGVbiL"
      },
      "source": [
        "### **4.2 Model Training**"
      ]
    },
    {
      "cell_type": "code",
      "execution_count": 85,
      "metadata": {
        "id": "zBU8BVVT9_pP"
      },
      "outputs": [],
      "source": [
        "def build_collaborative_model(embedding_size=50, dense_units=[128, 64, 32], dropout_rates=[0.3, 0.3, 0.3], learning_rate=1e-3):\n",
        "    user_input = Input(shape=(1,), name='user')\n",
        "    technician_input = Input(shape=(1,), name='technician')\n",
        "\n",
        "    user_embedding = Embedding(num_users, embedding_size, name='user_embedding')(user_input)\n",
        "    technician_embedding = Embedding(num_technicians, embedding_size, name='technician_embedding')(technician_input)\n",
        "\n",
        "    user_vec = Flatten(name='flatten_user')(user_embedding)\n",
        "    technician_vec = Flatten(name='flatten_technician')(technician_embedding)\n",
        "\n",
        "    concat = Concatenate()([user_vec, technician_vec])\n",
        "\n",
        "    x = concat\n",
        "    for units, dropout in zip(dense_units, dropout_rates):\n",
        "        x = Dense(units, activation='relu')(x)\n",
        "        x = Dropout(dropout)(x)\n",
        "\n",
        "    output = Dense(1, activation='linear')(x)\n",
        "\n",
        "    model = Model([user_input, technician_input], output)\n",
        "    model.compile(optimizer=Adam(learning_rate=learning_rate),\n",
        "                  loss='mean_squared_error',\n",
        "                  metrics=['mean_absolute_error'])\n",
        "\n",
        "    return model"
      ]
    },
    {
      "cell_type": "code",
      "execution_count": 86,
      "metadata": {
        "id": "-MCUlGafjg3Y"
      },
      "outputs": [],
      "source": [
        "model_cl = build_collaborative_model()"
      ]
    },
    {
      "cell_type": "code",
      "execution_count": 87,
      "metadata": {
        "id": "2zwlH1isjjUX"
      },
      "outputs": [],
      "source": [
        "train_user = train_df['user_idx'].values\n",
        "train_technician = train_df['technician_idx'].values\n",
        "train_rating = train_df['rating'].values\n",
        "\n",
        "test_user = test_df['user_idx'].values\n",
        "test_technician = test_df['technician_idx'].values\n",
        "test_rating = test_df['rating'].values"
      ]
    },
    {
      "cell_type": "code",
      "execution_count": 88,
      "metadata": {
        "colab": {
          "base_uri": "https://localhost:8080/"
        },
        "id": "n0xFpF7KjqnK",
        "outputId": "c4fcaee3-de7a-4ce2-f258-ea7c692f65b8"
      },
      "outputs": [
        {
          "name": "stdout",
          "output_type": "stream",
          "text": [
            "Epoch 1/10\n",
            "9/9 [==============================] - 2s 36ms/step - loss: 17.2066 - mean_absolute_error: 4.1248 - val_loss: 17.0807 - val_mean_absolute_error: 4.1079\n",
            "Epoch 2/10\n",
            "9/9 [==============================] - 0s 10ms/step - loss: 15.0189 - mean_absolute_error: 3.8478 - val_loss: 14.0790 - val_mean_absolute_error: 3.7244\n",
            "Epoch 3/10\n",
            "9/9 [==============================] - 0s 8ms/step - loss: 11.1270 - mean_absolute_error: 3.2889 - val_loss: 9.0500 - val_mean_absolute_error: 2.9712\n",
            "Epoch 4/10\n",
            "9/9 [==============================] - 0s 8ms/step - loss: 5.4870 - mean_absolute_error: 2.1805 - val_loss: 2.3475 - val_mean_absolute_error: 1.4246\n",
            "Epoch 5/10\n",
            "9/9 [==============================] - 0s 9ms/step - loss: 1.8085 - mean_absolute_error: 1.0907 - val_loss: 0.5496 - val_mean_absolute_error: 0.5878\n",
            "Epoch 6/10\n",
            "9/9 [==============================] - 0s 8ms/step - loss: 1.6443 - mean_absolute_error: 1.0016 - val_loss: 0.6903 - val_mean_absolute_error: 0.6959\n",
            "Epoch 7/10\n",
            "9/9 [==============================] - 0s 7ms/step - loss: 1.4141 - mean_absolute_error: 0.9808 - val_loss: 1.0835 - val_mean_absolute_error: 0.8953\n",
            "Epoch 8/10\n",
            "9/9 [==============================] - 0s 9ms/step - loss: 1.2253 - mean_absolute_error: 0.9147 - val_loss: 0.6233 - val_mean_absolute_error: 0.6622\n",
            "Epoch 9/10\n",
            "9/9 [==============================] - 0s 10ms/step - loss: 1.0397 - mean_absolute_error: 0.8102 - val_loss: 0.4729 - val_mean_absolute_error: 0.5829\n",
            "Epoch 10/10\n",
            "9/9 [==============================] - 0s 9ms/step - loss: 1.0354 - mean_absolute_error: 0.8056 - val_loss: 0.5532 - val_mean_absolute_error: 0.6220\n"
          ]
        }
      ],
      "source": [
        "history = model_cl.fit(\n",
        "    [train_user, train_technician], train_rating,\n",
        "    batch_size=64,\n",
        "    epochs=10,\n",
        "    validation_data=([test_user, test_technician], test_rating),\n",
        "    verbose=1\n",
        ")"
      ]
    },
    {
      "cell_type": "markdown",
      "metadata": {
        "id": "M4wHfBTfVorp"
      },
      "source": [
        "### **4.3 Model Evaluation**"
      ]
    },
    {
      "cell_type": "code",
      "execution_count": 89,
      "metadata": {
        "colab": {
          "base_uri": "https://localhost:8080/"
        },
        "id": "JMuzwqW9KAQo",
        "outputId": "ed36eb90-00c4-4d8d-aeda-cc81bb69e9b7"
      },
      "outputs": [
        {
          "name": "stdout",
          "output_type": "stream",
          "text": [
            "5/5 [==============================] - 0s 4ms/step - loss: 0.5532 - mean_absolute_error: 0.6220\n",
            "Test Loss: 0.5532161593437195\n",
            "Test MAE: 0.6219996213912964\n"
          ]
        }
      ],
      "source": [
        "results = model_cl.evaluate([test_user, test_technician], test_rating, verbose=1)\n",
        "print(f\"Test Loss: {results[0]}\")\n",
        "print(f\"Test MAE: {results[1]}\")"
      ]
    },
    {
      "cell_type": "markdown",
      "metadata": {
        "id": "_g9lste_XT6N"
      },
      "source": [
        "### **4.4 Model Optimization**\n",
        "Model optimization using Keras Tuner"
      ]
    },
    {
      "cell_type": "code",
      "execution_count": 90,
      "metadata": {
        "id": "nmaiRSS6Rxov"
      },
      "outputs": [],
      "source": [
        "def optimized_collaborative_model(hp):\n",
        "    embedding_size = hp.Int('embedding_size', min_value=30, max_value=100, step=10)\n",
        "\n",
        "    user_input = Input(shape=(1,), name='user')\n",
        "    technician_input = Input(shape=(1,), name='technician')\n",
        "\n",
        "    user_embedding = Embedding(num_users, embedding_size, name='user_embedding')(user_input)\n",
        "    technician_embedding = Embedding(num_technicians, embedding_size, name='technician_embedding')(technician_input)\n",
        "\n",
        "    user_vec = Flatten(name='flatten_user')(user_embedding)\n",
        "    technician_vec = Flatten(name='flatten_technician')(technician_embedding)\n",
        "\n",
        "    concat = Concatenate()([user_vec, technician_vec])\n",
        "\n",
        "    x = concat\n",
        "    for i in range(hp.Int('num_layers', 1, 3)):\n",
        "        x = Dense(hp.Int(f'dense_{i}_units', min_value=64, max_value=256, step=32), activation='relu')(x)\n",
        "        x = Dropout(hp.Float(f'dropout_{i}', min_value=0.2, max_value=0.5, step=0.1))(x)\n",
        "\n",
        "    output = Dense(1, activation='linear')(x)\n",
        "\n",
        "    model = Model([user_input, technician_input], output)\n",
        "    model.compile(optimizer=Adam(learning_rate=hp.Float('learning_rate', min_value=1e-4, max_value=1e-2, sampling='log')),\n",
        "                  loss='mean_squared_error', metrics=['mean_absolute_error'])\n",
        "\n",
        "    return model"
      ]
    },
    {
      "cell_type": "code",
      "execution_count": 91,
      "metadata": {
        "colab": {
          "base_uri": "https://localhost:8080/"
        },
        "id": "hpgbsUbCYMAd",
        "outputId": "b8060d5b-2a35-4e62-8f23-b1707b594f86"
      },
      "outputs": [
        {
          "name": "stdout",
          "output_type": "stream",
          "text": [
            "Reloading Tuner from my_dir/collaborative/tuner0.json\n"
          ]
        }
      ],
      "source": [
        "tuner_cl = kt.Hyperband(\n",
        "    optimized_collaborative_model,\n",
        "    objective='val_mean_absolute_error',\n",
        "    max_epochs=10,\n",
        "    hyperband_iterations=2,\n",
        "    directory='my_dir',\n",
        "    project_name='collaborative'\n",
        ")"
      ]
    },
    {
      "cell_type": "code",
      "execution_count": 92,
      "metadata": {
        "id": "HJvFDooClKb3"
      },
      "outputs": [],
      "source": [
        "tuner_cl.search(\n",
        "    [train_user, train_technician], train_rating,\n",
        "    epochs=10,\n",
        "    validation_data=([test_user, test_technician], test_rating),\n",
        "    batch_size=64\n",
        ")\n",
        "\n",
        "# Get the optimal hyperparameters\n",
        "best_hps = tuner_cl.get_best_hyperparameters(num_trials=1)[0]"
      ]
    },
    {
      "cell_type": "code",
      "execution_count": 93,
      "metadata": {
        "id": "Byye19thlPEv"
      },
      "outputs": [],
      "source": [
        "model_cl = tuner_cl.hypermodel.build(best_hps)"
      ]
    },
    {
      "cell_type": "code",
      "execution_count": 94,
      "metadata": {
        "colab": {
          "base_uri": "https://localhost:8080/"
        },
        "id": "2IqrnJ3LlSk_",
        "outputId": "f0cd42da-a456-4c79-a1f5-d430c6adb695"
      },
      "outputs": [
        {
          "name": "stdout",
          "output_type": "stream",
          "text": [
            "Epoch 1/10\n",
            "9/9 [==============================] - 1s 34ms/step - loss: 12.7374 - mean_absolute_error: 3.4922 - val_loss: 3.8339 - val_mean_absolute_error: 1.8900\n",
            "Epoch 2/10\n",
            "9/9 [==============================] - 0s 10ms/step - loss: 2.0661 - mean_absolute_error: 1.1873 - val_loss: 0.3153 - val_mean_absolute_error: 0.4621\n",
            "Epoch 3/10\n",
            "9/9 [==============================] - 0s 8ms/step - loss: 0.9210 - mean_absolute_error: 0.8122 - val_loss: 0.9342 - val_mean_absolute_error: 0.8379\n",
            "Epoch 4/10\n",
            "9/9 [==============================] - 0s 9ms/step - loss: 0.5031 - mean_absolute_error: 0.5723 - val_loss: 0.3526 - val_mean_absolute_error: 0.4721\n",
            "Epoch 5/10\n",
            "9/9 [==============================] - 0s 10ms/step - loss: 0.3565 - mean_absolute_error: 0.4709 - val_loss: 0.5076 - val_mean_absolute_error: 0.5961\n",
            "Epoch 6/10\n",
            "9/9 [==============================] - 0s 8ms/step - loss: 0.3017 - mean_absolute_error: 0.4394 - val_loss: 0.3181 - val_mean_absolute_error: 0.4606\n",
            "Epoch 7/10\n",
            "9/9 [==============================] - 0s 10ms/step - loss: 0.2856 - mean_absolute_error: 0.4234 - val_loss: 0.3954 - val_mean_absolute_error: 0.5138\n",
            "Epoch 8/10\n",
            "9/9 [==============================] - 0s 12ms/step - loss: 0.2580 - mean_absolute_error: 0.4106 - val_loss: 0.3535 - val_mean_absolute_error: 0.4856\n",
            "Epoch 9/10\n",
            "9/9 [==============================] - 0s 8ms/step - loss: 0.2547 - mean_absolute_error: 0.4092 - val_loss: 0.3854 - val_mean_absolute_error: 0.5073\n",
            "Epoch 10/10\n",
            "9/9 [==============================] - 0s 9ms/step - loss: 0.2577 - mean_absolute_error: 0.4070 - val_loss: 0.3988 - val_mean_absolute_error: 0.5180\n"
          ]
        }
      ],
      "source": [
        "history = model_cl.fit(\n",
        "    [train_user, train_technician], train_rating,\n",
        "    batch_size=64,\n",
        "    epochs=10,\n",
        "    validation_data=([test_user, test_technician], test_rating),\n",
        "    verbose=1\n",
        ")"
      ]
    },
    {
      "cell_type": "code",
      "execution_count": 95,
      "metadata": {
        "colab": {
          "base_uri": "https://localhost:8080/"
        },
        "id": "JwEbAfPElVao",
        "outputId": "aaa75ad4-371e-4b9b-c8f5-38ad817c36b0"
      },
      "outputs": [
        {
          "name": "stdout",
          "output_type": "stream",
          "text": [
            "5/5 [==============================] - 0s 3ms/step - loss: 0.3988 - mean_absolute_error: 0.5180\n",
            "Test Loss: 0.398813396692276\n",
            "Test MAE: 0.5180251002311707\n"
          ]
        }
      ],
      "source": [
        "results = model_cl.evaluate([test_user, test_technician], test_rating, verbose=1)\n",
        "print(f\"Test Loss: {results[0]}\")\n",
        "print(f\"Test MAE: {results[1]}\")"
      ]
    },
    {
      "cell_type": "markdown",
      "metadata": {
        "id": "XtgQN21xx69o"
      },
      "source": [
        "Save the model and features"
      ]
    },
    {
      "cell_type": "code",
      "execution_count": 96,
      "metadata": {
        "colab": {
          "base_uri": "https://localhost:8080/"
        },
        "id": "oZyUTWWLonCb",
        "outputId": "3fd378e5-7aa5-493e-eeb8-bc6d09f2258c"
      },
      "outputs": [
        {
          "name": "stdout",
          "output_type": "stream",
          "text": [
            "Model and preprocessing objects saved.\n"
          ]
        },
        {
          "name": "stderr",
          "output_type": "stream",
          "text": [
            "/usr/local/lib/python3.10/dist-packages/keras/src/engine/training.py:3103: UserWarning: You are saving your model as an HDF5 file via `model.save()`. This file format is considered legacy. We recommend using instead the native Keras format, e.g. `model.save('my_model.keras')`.\n",
            "  saving_api.save_model(\n"
          ]
        }
      ],
      "source": [
        "model_cl.save('collaborative_filtering.h5')\n",
        "\n",
        "with open('user_id_map.pkl', 'wb') as f:\n",
        "    pickle.dump(user_id_map, f)\n",
        "\n",
        "with open('technician_id_map.pkl', 'wb') as f:\n",
        "    pickle.dump(technician_id_map, f)\n",
        "\n",
        "print(\"Model and preprocessing objects saved.\")"
      ]
    },
    {
      "cell_type": "markdown",
      "metadata": {
        "id": "i0kyClCWRQMS"
      },
      "source": [
        "## **5. Recommendation**"
      ]
    },
    {
      "cell_type": "markdown",
      "metadata": {
        "id": "ucUVmOsaBDq4"
      },
      "source": [
        "### **5.1 Content-Based Filtering**\n",
        "Load the saved model and preprocessing artifacts"
      ]
    },
    {
      "cell_type": "code",
      "execution_count": 97,
      "metadata": {
        "id": "He96fBmhY9y5"
      },
      "outputs": [],
      "source": [
        "content_based_model = tf.keras.models.load_model('content_based_filtering.h5')\n",
        "with open('tfidf_vectorizer.pkl', 'rb') as f:\n",
        "    tfidf = pickle.load(f)\n",
        "with open('scaler_experience.pkl', 'rb') as f:\n",
        "    scaler_experience = pickle.load(f)\n",
        "with open('scaler_ratings.pkl', 'rb') as f:\n",
        "    scaler_ratings = pickle.load(f)\n",
        "with open('encoder.pkl', 'rb') as f:\n",
        "    encoder = pickle.load(f)"
      ]
    },
    {
      "cell_type": "code",
      "execution_count": 98,
      "metadata": {
        "id": "GsxtFSlJG_LC"
      },
      "outputs": [],
      "source": [
        "def content_based_filtering(user_skill):\n",
        "    # Preprocess the user input skill\n",
        "    user_skill_tfidf = tfidf.transform([user_skill]).toarray()\n",
        "\n",
        "    # Prepare the input data\n",
        "    if user_skill_tfidf.shape[1] < X.shape[1]:\n",
        "        X_input = np.hstack([user_skill_tfidf, np.zeros((1, X.shape[1] - user_skill_tfidf.shape[1]))])\n",
        "    else:\n",
        "        X_input = user_skill_tfidf[:, :X.shape[1]]\n",
        "\n",
        "    # Predict scores for the user input skill\n",
        "    predicted_score = content_based_model.predict(X_input).flatten()[0]\n",
        "\n",
        "    # Combine with experience, certifications, and ratings\n",
        "    best_match_score = -1\n",
        "    best_technician_index = -1\n",
        "\n",
        "    for idx in range(X.shape[0]):\n",
        "        technician = technicians_df.iloc[idx]\n",
        "        skill_match = user_skill.lower() in technician['skills'].lower()  # Ensure exact phrase matching\n",
        "        if skill_match:\n",
        "            combined_score = (predicted_score +\n",
        "                              technician['experience'] +\n",
        "                              technician['ratingsreceived'] +\n",
        "                              certifications_encoded_sparse[idx].sum())\n",
        "            if combined_score > best_match_score:\n",
        "                best_match_score = combined_score\n",
        "                best_technician_index = idx\n",
        "\n",
        "    if best_technician_index != -1:\n",
        "        return ori_technician.iloc[best_technician_index]\n",
        "    else:\n",
        "        return \"No matching technician found.\""
      ]
    },
    {
      "cell_type": "code",
      "execution_count": 99,
      "metadata": {
        "colab": {
          "base_uri": "https://localhost:8080/"
        },
        "id": "BcmtUi5IZIo9",
        "outputId": "125e9def-2eaa-4307-b36e-5d370631daa4"
      },
      "outputs": [
        {
          "name": "stdout",
          "output_type": "stream",
          "text": [
            "1/1 [==============================] - 0s 70ms/step\n",
            "technicianid                                               186\n",
            "name                                      Wisnu Nugraha Irawan\n",
            "phonenumber                                      6284311165480\n",
            "email                                    wisnuirawan@gmail.com\n",
            "skills                        Plumbing Repair, Computer Repair\n",
            "experience                                                  14\n",
            "certifications     SKA Ahli Teknik Plambing dan Pompa Mekanika\n",
            "address                                  Jl. Abdul Muis No. 15\n",
            "location                                             Surakarta\n",
            "ratingsreceived                                            5.0\n",
            "Name: 185, dtype: object\n"
          ]
        }
      ],
      "source": [
        "# Example usage\n",
        "user_skill = \"computer repair\"\n",
        "best_technician = content_based_filtering(user_skill)\n",
        "print(best_technician)"
      ]
    },
    {
      "cell_type": "markdown",
      "metadata": {
        "id": "mHdq62CKBUST"
      },
      "source": [
        "### **5.2 Collaborative Filtering**\n",
        "Load the saved model and preprocessing artifacts"
      ]
    },
    {
      "cell_type": "code",
      "execution_count": 100,
      "metadata": {
        "id": "A7rEKb0VEQmj"
      },
      "outputs": [],
      "source": [
        "collaborative_model = tf.keras.models.load_model('collaborative_filtering.h5')\n",
        "\n",
        "# Load the user_id_map and technician_id_map\n",
        "with open('user_id_map.pkl', 'rb') as f:\n",
        "    user_id_map = pickle.load(f)\n",
        "\n",
        "with open('technician_id_map.pkl', 'rb') as f:\n",
        "    technician_id_map = pickle.load(f)\n"
      ]
    },
    {
      "cell_type": "code",
      "execution_count": 101,
      "metadata": {
        "id": "seXdrDgvq6vl"
      },
      "outputs": [],
      "source": [
        "def collaborative_filtering(user_id):\n",
        "    # Map the user ID to the corresponding index\n",
        "    if user_id not in user_id_map:\n",
        "        return \"User ID not found.\"\n",
        "\n",
        "    user_idx = user_id_map[user_id]\n",
        "\n",
        "    # Predict ratings for all technicians for the given user\n",
        "    user_input = np.array([user_idx] * num_technicians)\n",
        "    technician_input = np.arange(num_technicians)\n",
        "    predicted_ratings = collaborative_model.predict([user_input, technician_input])\n",
        "\n",
        "    # Combine the predicted ratings with technician indices\n",
        "    predictions = [(tech_id, pred) for tech_id, pred in zip(technician_id_map.keys(), predicted_ratings.flatten())]\n",
        "\n",
        "    # Sort the predictions by rating in descending order\n",
        "    sorted_predictions = sorted(predictions, key=lambda x: x[1], reverse=True)\n",
        "\n",
        "    # Return the top recommendation\n",
        "    top_recommendation = sorted_predictions[0]\n",
        "    top_technician = ori_technician[technicians_df['technicianid'] == top_recommendation[0]].iloc[0]\n",
        "    return top_technician"
      ]
    },
    {
      "cell_type": "code",
      "execution_count": 102,
      "metadata": {
        "colab": {
          "base_uri": "https://localhost:8080/"
        },
        "id": "FbQPX1BKu4U1",
        "outputId": "e82aa839-ce25-4f71-9887-1adbff195c66"
      },
      "outputs": [
        {
          "name": "stdout",
          "output_type": "stream",
          "text": [
            "7/7 [==============================] - 0s 3ms/step\n",
            "technicianid                                   136\n",
            "name                               Jarwadi Pradana\n",
            "phonenumber                         62861619190844\n",
            "email                     jarwadipradana@gmail.com\n",
            "skills             Computer Maintenance, AC Repair\n",
            "experience                                       1\n",
            "certifications                                 NaN\n",
            "address                     Jl. Yos Sudarso No. 16\n",
            "location                                 Pagaralam\n",
            "ratingsreceived                                4.1\n",
            "Name: 135, dtype: object\n"
          ]
        }
      ],
      "source": [
        "# Example usage\n",
        "user_id = 1\n",
        "recommendation = collaborative_filtering(user_id)\n",
        "print(recommendation)"
      ]
    },
    {
      "cell_type": "markdown",
      "metadata": {
        "id": "HH4S9Ef4pRrV"
      },
      "source": [
        "### **5.3 Hybrid Recommendation System**"
      ]
    },
    {
      "cell_type": "code",
      "execution_count": 103,
      "metadata": {
        "id": "2HFXexrJpj39"
      },
      "outputs": [],
      "source": [
        "def hybrid_recommendation(user_id, user_skill):\n",
        "    # Get collaborative filtering recommendation\n",
        "    collab_recommendation = collaborative_filtering(user_id)\n",
        "\n",
        "    # Get content-based filtering recommendation\n",
        "    content_recommendation = content_based_filtering(user_skill)\n",
        "\n",
        "    # Extract and compute scores\n",
        "    collab_score = collab_recommendation['ratingsreceived'] + collab_recommendation['experience'] + certifications_encoded_sparse[collab_recommendation.name].sum()\n",
        "    content_score = content_recommendation['ratingsreceived'] + content_recommendation['experience'] + certifications_encoded_sparse[content_recommendation.name].sum()\n",
        "\n",
        "    # Combine the scores (simple weighted average or other logic can be applied here)\n",
        "    combined_score = (collab_score + content_score) / 2\n",
        "\n",
        "    # Compare scores and return the best recommendation\n",
        "    if collab_score >= combined_score:\n",
        "        return collab_recommendation\n",
        "    else:\n",
        "        return content_recommendation"
      ]
    },
    {
      "cell_type": "code",
      "execution_count": 104,
      "metadata": {
        "colab": {
          "base_uri": "https://localhost:8080/"
        },
        "id": "svLwbkUApnfO",
        "outputId": "2fb0b587-e97c-4cc7-ab80-655fbab296e6"
      },
      "outputs": [
        {
          "name": "stdout",
          "output_type": "stream",
          "text": [
            "7/7 [==============================] - 0s 2ms/step\n",
            "1/1 [==============================] - 0s 21ms/step\n",
            "technicianid                                                      85\n",
            "name                                              Yoga Adika Narpati\n",
            "phonenumber                                            6282753036164\n",
            "email                                          yoganarpati@gmail.com\n",
            "skills                  Plumbing Maintenance, Washing Machine Repair\n",
            "experience                                                        14\n",
            "certifications     Sertifikat Kompetensi BNSP Teknisi Plumbing & ...\n",
            "address                                      Jl. Ahmad Dahlan No. 52\n",
            "location                                                    Bengkulu\n",
            "ratingsreceived                                                  4.5\n",
            "Name: 84, dtype: object\n"
          ]
        }
      ],
      "source": [
        "# Example usage\n",
        "user_id = 150\n",
        "user_skill = 'plumbing maintenance'\n",
        "recommendation = hybrid_recommendation(user_id, user_skill)\n",
        "print(recommendation)"
      ]
    }
  ],
  "metadata": {
    "colab": {
      "provenance": []
    },
    "kernelspec": {
      "display_name": "Python 3",
      "name": "python3"
    },
    "language_info": {
      "name": "python"
    }
  },
  "nbformat": 4,
  "nbformat_minor": 0
}
